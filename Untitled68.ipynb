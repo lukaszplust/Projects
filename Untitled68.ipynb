{
  "nbformat": 4,
  "nbformat_minor": 0,
  "metadata": {
    "colab": {
      "provenance": [],
      "authorship_tag": "ABX9TyPXr9nGLVdPw0fR2UX32HlB",
      "include_colab_link": true
    },
    "kernelspec": {
      "name": "python3",
      "display_name": "Python 3"
    },
    "language_info": {
      "name": "python"
    }
  },
  "cells": [
    {
      "cell_type": "markdown",
      "metadata": {
        "id": "view-in-github",
        "colab_type": "text"
      },
      "source": [
        "<a href=\"https://colab.research.google.com/github/lukaszplust/Projects/blob/main/Untitled68.ipynb\" target=\"_parent\"><img src=\"https://colab.research.google.com/assets/colab-badge.svg\" alt=\"Open In Colab\"/></a>"
      ]
    },
    {
      "cell_type": "code",
      "source": [
        "RECORD_SIZE = 10  # Rozmiar rekordu\n",
        "BLOCK_SIZE = 4    # Liczba rekordów na blok\n",
        "\n",
        "read_count = 0\n",
        "write_count = 0\n",
        "\n",
        "def read_block(file, start_index, block_size=BLOCK_SIZE):\n",
        "    global read_count\n",
        "    file.seek(start_index * (RECORD_SIZE + 1))  # +1 for newline character\n",
        "    block = [file.read(RECORD_SIZE).strip() for _ in range(block_size)]\n",
        "    read_count += 1\n",
        "    return block\n",
        "\n",
        "def write_block(file, start_index, block, block_size=BLOCK_SIZE):\n",
        "    global write_count\n",
        "    file.seek(start_index * (RECORD_SIZE + 1))  # +1 for newline character\n",
        "    for record in block:\n",
        "        file.write(record.ljust(RECORD_SIZE) + '\\n')\n",
        "    write_count += 1\n",
        "\n",
        "def read_record(file, index):\n",
        "    file.seek(index * (RECORD_SIZE + 1))  # +1 for newline character\n",
        "    return file.read(RECORD_SIZE).strip()\n",
        "\n",
        "def write_record(file, index, record):\n",
        "    file.seek(index * (RECORD_SIZE + 1))  # +1 for newline character\n",
        "    file.write(record.ljust(RECORD_SIZE) + '\\n')\n"
      ],
      "metadata": {
        "id": "mFem1lCghGx6"
      },
      "execution_count": 2,
      "outputs": []
    },
    {
      "cell_type": "code",
      "source": [
        "import random\n",
        "\n",
        "def generate_random_data(filename, num_records):\n",
        "    with open(filename, 'w') as file:\n",
        "        for _ in range(num_records):\n",
        "            record = str(random.randint(1, 1000))\n",
        "            file.write(record.ljust(RECORD_SIZE) + '\\n')\n",
        "\n",
        "def input_data(filename, num_records):\n",
        "    with open(filename, 'w') as file:\n",
        "        for _ in range(num_records):\n",
        "            record = input(\"Podaj rekord: \")\n",
        "            file.write(record.ljust(RECORD_SIZE) + '\\n')\n"
      ],
      "metadata": {
        "id": "GmggGLxqh4Lw"
      },
      "execution_count": 3,
      "outputs": []
    },
    {
      "cell_type": "code",
      "source": [
        "import os\n",
        "\n",
        "def find_runs(file):\n",
        "    runs = []\n",
        "    run = []\n",
        "\n",
        "    file.seek(0)\n",
        "    last_record = None\n",
        "    for line in file:\n",
        "        record = line.strip()\n",
        "        if not last_record or record >= last_record:\n",
        "            run.append(record)\n",
        "        else:\n",
        "            runs.append(run)\n",
        "            run = [record]\n",
        "        last_record = record\n",
        "    runs.append(run)\n",
        "    return runs\n",
        "\n",
        "def distribute_runs(runs, t1, t2):\n",
        "    write_to_t1 = True\n",
        "    for run in runs:\n",
        "        if write_to_t1:\n",
        "            for record in run:\n",
        "                t1.write(record.ljust(RECORD_SIZE) + '\\n')\n",
        "        else:\n",
        "            for record in run:\n",
        "                t2.write(record.ljust(RECORD_SIZE) + '\\n')\n",
        "        write_to_t1 = not write_to_t1\n",
        "\n",
        "def merge_files(t1, t2, out_file):\n",
        "    record1 = t1.readline().strip()\n",
        "    record2 = t2.readline().strip()\n",
        "\n",
        "    while record1 and record2:\n",
        "        if record1 <= record2:\n",
        "            out_file.write(record1.ljust(RECORD_SIZE) + '\\n')\n",
        "            record1 = t1.readline().strip()\n",
        "        else:\n",
        "            out_file.write(record2.ljust(RECORD_SIZE) + '\\n')\n",
        "            record2 = t2.readline().strip()\n",
        "\n",
        "    while record1:\n",
        "        out_file.write(record1.ljust(RECORD_SIZE) + '\\n')\n",
        "        record1 = t1.readline().strip()\n",
        "\n",
        "    while record2:\n",
        "        out_file.write(record2.ljust(RECORD_SIZE) + '\\n')\n",
        "        record2 = t2.readline().strip()\n",
        "\n",
        "def natural_merge_sort(filename):\n",
        "    temp1 = 'temp1.txt'\n",
        "    temp2 = 'temp2.txt'\n",
        "\n",
        "    phase_count = 0\n",
        "    global read_count, write_count\n",
        "    read_count = 0\n",
        "    write_count = 0\n",
        "\n",
        "    while True:\n",
        "        phase_count += 1\n",
        "        with open(filename, 'r') as file:\n",
        "            runs = find_runs(file)\n",
        "        with open(temp1, 'w') as t1, open(temp2, 'w') as t2:\n",
        "            distribute_runs(runs, t1, t2)\n",
        "        if os.stat(temp2).st_size == 0:\n",
        "            break\n",
        "        with open(temp1, 'r') as t1, open(temp2, 'r') as t2, open(filename, 'w') as out:\n",
        "            merge_files(t1, t2, out)\n",
        "\n",
        "        print(f\"Plik po fazie {phase_count}:\")\n",
        "        with open(filename, 'r') as file:\n",
        "            print(file.read())\n",
        "\n",
        "    return phase_count, read_count, write_count\n"
      ],
      "metadata": {
        "id": "t0A3gWxRh6zI"
      },
      "execution_count": 5,
      "outputs": []
    },
    {
      "cell_type": "code",
      "source": [
        "# Parametry\n",
        "NUM_RECORDS = 4\n",
        "\n",
        "# Wybór trybu generowania danych\n",
        "print(\"Wybierz opcję generowania danych:\")\n",
        "print(\"1. Generowanie losowych danych\")\n",
        "print(\"2. Wprowadzanie danych z klawiatury\")\n",
        "print(\"3. Wczytywanie danych testowych z pliku\")\n",
        "\n",
        "option = int(input(\"Opcja: \"))\n",
        "\n",
        "if option == 1:\n",
        "    generate_random_data('data.txt', NUM_RECORDS)\n",
        "elif option == 2:\n",
        "    input_data('data.txt', NUM_RECORDS)\n",
        "elif option == 3:\n",
        "    test_filename = input(\"Podaj nazwę pliku testowego: \")\n",
        "    load_test_data(test_filename, 'data.txt')\n",
        "else:\n",
        "    print(\"Nieprawidłowa opcja\")\n",
        "    exit()\n",
        "\n",
        "# Wyświetlanie zawartości pliku przed sortowaniem\n",
        "print(\"Plik przed sortowaniem:\")\n",
        "with open('data.txt', 'r') as file:\n",
        "    print(file.read())\n",
        "\n",
        "# Sortowanie pliku metodą scalania naturalnego\n",
        "phase_count, read_count, write_count = natural_merge_sort('data.txt')\n",
        "\n",
        "# Wyświetlanie zawartości pliku po sortowaniu\n",
        "print(\"Plik po sortowaniu:\")\n",
        "with open('data.txt', 'r') as file:\n",
        "    print(file.read())\n",
        "\n",
        "# Wyświetlanie liczby faz sortowania oraz liczby odczytów i zapisów stron na dysk\n",
        "print(f\"Liczba faz sortowania: {phase_count}\")\n",
        "print(f\"Liczba odczytów stron: {read_count}\")\n",
        "print(f\"Liczba zapisów stron: {write_count}\")\n"
      ],
      "metadata": {
        "colab": {
          "base_uri": "https://localhost:8080/"
        },
        "id": "B_Acw0nziE0b",
        "outputId": "36e663b3-3b37-47df-f9e3-b3d021ce4de2"
      },
      "execution_count": 9,
      "outputs": [
        {
          "output_type": "stream",
          "name": "stdout",
          "text": [
            "Wybierz opcję generowania danych:\n",
            "1. Generowanie losowych danych\n",
            "2. Wprowadzanie danych z klawiatury\n",
            "3. Wczytywanie danych testowych z pliku\n",
            "Opcja: 2\n",
            "Podaj rekord: 13 512 69 32 12 1\n",
            "Podaj rekord: 41 512 65 86 43 2\n",
            "Podaj rekord: 41 3\n",
            "Podaj rekord: 98 54 78 43\n",
            "Plik przed sortowaniem:\n",
            "13 512 69 32 12 1\n",
            "41 512 65 86 43 2\n",
            "41 3      \n",
            "98 54 78 43\n",
            "\n",
            "Plik po fazie 1:\n",
            "13 512 69 32 12 1\n",
            "41 3      \n",
            "41 512 65 86 43 2\n",
            "98 54 78 43\n",
            "\n",
            "Plik po sortowaniu:\n",
            "13 512 69 32 12 1\n",
            "41 3      \n",
            "41 512 65 86 43 2\n",
            "98 54 78 43\n",
            "\n",
            "Liczba faz sortowania: 2\n",
            "Liczba odczytów stron: 0\n",
            "Liczba zapisów stron: 0\n"
          ]
        }
      ]
    },
    {
      "cell_type": "code",
      "source": [],
      "metadata": {
        "id": "jOlUkVHMiFYp"
      },
      "execution_count": null,
      "outputs": []
    }
  ]
}