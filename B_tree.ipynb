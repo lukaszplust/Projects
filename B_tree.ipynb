{
  "nbformat": 4,
  "nbformat_minor": 0,
  "metadata": {
    "colab": {
      "provenance": [],
      "authorship_tag": "ABX9TyM5y+nnW7dzbrVkCEoLRGu8",
      "include_colab_link": true
    },
    "kernelspec": {
      "name": "python3",
      "display_name": "Python 3"
    },
    "language_info": {
      "name": "python"
    }
  },
  "cells": [
    {
      "cell_type": "markdown",
      "metadata": {
        "id": "view-in-github",
        "colab_type": "text"
      },
      "source": [
        "<a href=\"https://colab.research.google.com/github/lukaszplust/Projects/blob/main/B_tree.ipynb\" target=\"_parent\"><img src=\"https://colab.research.google.com/assets/colab-badge.svg\" alt=\"Open In Colab\"/></a>"
      ]
    },
    {
      "cell_type": "code",
      "source": [
        "class Record:\n",
        "    def __init__(self, key, data):\n",
        "        self.key = key\n",
        "        self.data = data\n",
        "\n",
        "    def __repr__(self):\n",
        "        return f\"Record({self.key}, {self.data})\"\n",
        "\n",
        "    def to_bytes(self):\n",
        "        key_bytes = self.key.to_bytes(4, byteorder='big')\n",
        "        data_bytes = self.data.encode()\n",
        "        length_bytes = len(data_bytes).to_bytes(4, byteorder='big')\n",
        "        return key_bytes + length_bytes + data_bytes\n",
        "\n",
        "    @staticmethod\n",
        "    def from_bytes(byte_data):\n",
        "        key = int.from_bytes(byte_data[:4], byteorder='big')\n",
        "        length = int.from_bytes(byte_data[4:8], byteorder='big')\n",
        "        data = byte_data[8:8+length].decode()\n",
        "        return Record(key, data)"
      ],
      "metadata": {
        "id": "sw8ceT_7WzfD"
      },
      "execution_count": 15,
      "outputs": []
    },
    {
      "cell_type": "code",
      "source": [
        "class ReadBuffer:\n",
        "    def __init__(self, path, buffer_size=4):\n",
        "        self.path = path\n",
        "        self.buffer_size = buffer_size\n",
        "        self.buffer = []\n",
        "        self.file = open(self.path, \"rb\")\n",
        "        self.position = 0\n",
        "        self.disk_reads_count = 0\n",
        "\n",
        "    def read_next(self):\n",
        "        if self.position >= len(self.buffer):\n",
        "            self._fill_buffer()\n",
        "        if not self.buffer:\n",
        "            return None\n",
        "        record = self.buffer[self.position]\n",
        "        self.position += 1\n",
        "        return record\n",
        "\n",
        "    def _fill_buffer(self):\n",
        "        self.buffer = []\n",
        "        self.position = 0\n",
        "        for _ in range(self.buffer_size):\n",
        "            bytes_record = self.file.read(8)\n",
        "            if not bytes_record:\n",
        "                break\n",
        "            length = int.from_bytes(bytes_record[4:8], byteorder='big')\n",
        "            data = self.file.read(length)\n",
        "            self.buffer.append(Record.from_bytes(bytes_record + data))\n",
        "        self.disk_reads_count += 1\n",
        "\n",
        "    def close(self):\n",
        "        self.file.close()"
      ],
      "metadata": {
        "id": "toZE_KxRXBl8"
      },
      "execution_count": 16,
      "outputs": []
    },
    {
      "cell_type": "code",
      "source": [
        "class WriteBuffer:\n",
        "    def __init__(self, path, buffer_size=4):\n",
        "        self.path = path\n",
        "        self.buffer_size = buffer_size\n",
        "        self.buffer = []\n",
        "        self.disk_writes_count = 0\n",
        "\n",
        "    def write(self, record):\n",
        "        self.buffer.append(record)\n",
        "        if len(self.buffer) >= self.buffer_size:\n",
        "            self.flush()\n",
        "\n",
        "    def flush(self):\n",
        "        with open(self.path, \"ab\") as file:\n",
        "            for record in self.buffer:\n",
        "                file.write(record.to_bytes())\n",
        "        self.disk_writes_count += 1\n",
        "        self.buffer = []\n",
        "\n",
        "    def close(self):\n",
        "        if self.buffer:\n",
        "            self.flush()"
      ],
      "metadata": {
        "id": "0els8DjxW0k2"
      },
      "execution_count": 17,
      "outputs": []
    },
    {
      "cell_type": "code",
      "source": [
        "class BTreeNode:\n",
        "    def __init__(self, t, leaf=False):\n",
        "        self.t = t  # Minimalny stopień (t)\n",
        "        self.leaf = leaf  # Czy jest liściem\n",
        "        self.keys = []  # Lista kluczy\n",
        "        self.children = []  # Lista dzieci (węzłów)\n",
        "\n",
        "    def __repr__(self):\n",
        "        return f'BTreeNode(keys={self.keys}, leaf={self.leaf})'\n",
        "\n",
        "    def find_key(self, k):\n",
        "        idx = 0\n",
        "        while idx < len(self.keys) and self.keys[idx] < k:\n",
        "            idx += 1\n",
        "        return idx\n",
        "\n",
        "    def insert_non_full(self, k):\n",
        "        i = len(self.keys) - 1\n",
        "        if self.leaf:\n",
        "            self.keys.append(None)\n",
        "            while i >= 0 and self.keys[i] > k:\n",
        "                self.keys[i + 1] = self.keys[i]\n",
        "                i -= 1\n",
        "            self.keys[i + 1] = k\n",
        "        else:\n",
        "            while i >= 0 and self.keys[i] > k:\n",
        "                i -= 1\n",
        "            i += 1\n",
        "            if len(self.children[i].keys) == 2 * self.t - 1:\n",
        "                self.split_child(i)\n",
        "                if self.keys[i] < k:\n",
        "                    i += 1\n",
        "            self.children[i].insert_non_full(k)\n",
        "\n",
        "    def split_child(self, i):\n",
        "        t = self.t\n",
        "        y = self.children[i]\n",
        "        z = BTreeNode(t, y.leaf)\n",
        "        self.children.insert(i + 1, z)\n",
        "        self.keys.insert(i, y.keys[t - 1])\n",
        "        z.keys = y.keys[t:(2 * t) - 1]\n",
        "        y.keys = y.keys[0:t - 1]\n",
        "        if not y.leaf:\n",
        "            z.children = y.children[t:(2 * t)]\n",
        "            y.children = y.children[0:t - 1]"
      ],
      "metadata": {
        "id": "7G6ykwVQXGGX"
      },
      "execution_count": 18,
      "outputs": []
    },
    {
      "cell_type": "code",
      "source": [
        "class BTree:\n",
        "    def __init__(self, t):\n",
        "        self.root = BTreeNode(t, leaf=True)\n",
        "        self.t = t\n",
        "\n",
        "    def traverse(self):\n",
        "        self._traverse(self.root)\n",
        "        print()\n",
        "\n",
        "    def _traverse(self, node):\n",
        "        for i in range(len(node.keys)):\n",
        "            if not node.leaf:\n",
        "                self._traverse(node.children[i])\n",
        "            print(node.keys[i], end=' ')\n",
        "        if not node.leaf:\n",
        "            self._traverse(node.children[len(node.keys)])\n",
        "\n",
        "    # Sprawdza, czy klucz istnieje w drzewie. Jeśli klucz jest obecny,\n",
        "    # metoda zwraca go oraz dane powiązane (w przypadku węzłów wewnętrznych,\n",
        "    # odnosi się do dzieci węzłów), w przeciwnym razie zwraca None\n",
        "    def search(self, k):\n",
        "        return self._search(self.root, k)\n",
        "\n",
        "    def _search(self, node, k):\n",
        "        i = node.find_key(k)\n",
        "\n",
        "        if i < len(node.keys) and node.keys[i] == k:\n",
        "            return (node.keys[i], node.children[i] if not node.leaf else None)\n",
        "\n",
        "        if node.leaf:\n",
        "            return None\n",
        "\n",
        "        return self._search(node.children[i], k)\n",
        "\n",
        "    def insert(self, k):\n",
        "        if self.search(k) is not None:\n",
        "            print(f'Already exists: {k}')\n",
        "            return\n",
        "\n",
        "        root = self.root\n",
        "        if len(root.keys) == (2 * self.t) - 1:\n",
        "            temp = BTreeNode(self.t)\n",
        "            self.root = temp\n",
        "            temp.children.insert(0, root)\n",
        "            self._split_child(temp, 0)\n",
        "            self._insert_non_full(temp, k)\n",
        "        else:\n",
        "            self._insert_non_full(root, k)\n",
        "\n",
        "    def _insert_non_full(self, node, k):\n",
        "        node.insert_non_full(k)\n",
        "\n",
        "    def _split_child(self, node, i):\n",
        "        node.split_child(i)\n",
        "\n",
        "if __name__ == \"__main__\":\n",
        "    btree = BTree(2)\n",
        "    btree.insert(10)\n",
        "    btree.insert(20)\n",
        "    btree.insert(5)\n",
        "    btree.insert(6)\n",
        "    btree.insert(12)\n",
        "    btree.insert(30)\n",
        "    btree.insert(7)\n",
        "    btree.insert(17)\n",
        "\n",
        "    print(\"Traversal of tree constructed:\")\n",
        "    btree.traverse()\n",
        "\n",
        "    k = 6\n",
        "    result = btree.search(k)\n",
        "    if result:\n",
        "        print(f\"\\nFound: {result}\")\n",
        "    else:\n",
        "        print(f\"\\nNot found: {k}\")\n",
        "\n",
        "    k = 15\n",
        "    result = btree.search(k)\n",
        "    if result:\n",
        "        print(f\"\\nFound: {result}\")\n",
        "    else:\n",
        "        print(f\"\\nNot found: {k}\")\n"
      ],
      "metadata": {
        "colab": {
          "base_uri": "https://localhost:8080/"
        },
        "id": "NA5qOYVJYCxr",
        "outputId": "05e5e176-794b-44d1-cad0-d4a6bb61af88"
      },
      "execution_count": 20,
      "outputs": [
        {
          "output_type": "stream",
          "name": "stdout",
          "text": [
            "Traversal of tree constructed:\n",
            "5 6 7 10 12 17 20 30 \n",
            "\n",
            "Found: (6, None)\n",
            "\n",
            "Not found: 15\n"
          ]
        }
      ]
    },
    {
      "cell_type": "code",
      "source": [],
      "metadata": {
        "id": "4bMFPfuSZT9c"
      },
      "execution_count": 20,
      "outputs": []
    }
  ]
}