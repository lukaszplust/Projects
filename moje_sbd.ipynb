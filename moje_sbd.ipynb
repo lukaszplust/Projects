{
  "nbformat": 4,
  "nbformat_minor": 0,
  "metadata": {
    "colab": {
      "provenance": [],
      "authorship_tag": "ABX9TyOs4ovX4iPZDTuf+SKrEN1B",
      "include_colab_link": true
    },
    "kernelspec": {
      "name": "python3",
      "display_name": "Python 3"
    },
    "language_info": {
      "name": "python"
    }
  },
  "cells": [
    {
      "cell_type": "markdown",
      "metadata": {
        "id": "view-in-github",
        "colab_type": "text"
      },
      "source": [
        "<a href=\"https://colab.research.google.com/github/lukaszplust/Projects/blob/main/moje_sbd.ipynb\" target=\"_parent\"><img src=\"https://colab.research.google.com/assets/colab-badge.svg\" alt=\"Open In Colab\"/></a>"
      ]
    },
    {
      "cell_type": "code",
      "source": [
        "import os\n",
        "import itertools\n",
        "import math\n",
        "from random import randint\n",
        "import pdb"
      ],
      "metadata": {
        "id": "I1UkZ078Wtf7"
      },
      "execution_count": 1,
      "outputs": []
    },
    {
      "cell_type": "code",
      "source": [
        "# BUFFER_SIZE - określa liczbę rekordów, które będą przechowywane w buforze w jednym momencie.\n",
        "# Buforowanie poprawia wydajność operacji wejścia-wyjścia, minimalizując liczbę operacji odczytu i zapisu na dysk poprzez grupowanie ich w większe bloki.\n",
        "\n",
        "# zakładam, ze blok to 512 bajtów, wiec wychodzi po 32 rekordy\n",
        "BUFFER_SIZE = 32\n",
        "#dlaczego rekord to 16 bitów?\n",
        "# to chyba dlatego co jest nizej\n",
        "\n",
        "# TO NADANE PRZEZ POLECENIE\n",
        "# SET_BYTES_SIZE - określa rozmiar w bajtach pojedynczego rekordu bez dodatkowych znaków.\n",
        "SET_BYTES_SIZE = 15\n",
        "\n",
        "# Ta stała określa rozmiar w bajtach pojedynczego rekordu, włączając dodatkowy znak (nowa linia lub znak końca rekordu).\n",
        "# Zazwyczaj jest to znak '\\n' (nowa linia), który oddziela rekordy w pliku tekstowym\n",
        "RECORD_BYTES_SIZE = SET_BYTES_SIZE + 1\n",
        "\n",
        "# Ta stała określa całkowity rozmiar bufora w bajtach.\n",
        "# Jest to iloczyn liczby rekordów w buforze (BUFFER_SIZE) i rozmiaru jednego rekordu w bajtach (RECORD_BYTES_SIZE).\n",
        "# Bufor o takim rozmiarze będzie używany do operacji odczytu i zapisu blokowego, co zwiększa efektywność przez minimalizację liczby operacji I/O\n",
        "BYTES_BUFFER_SIZE = BUFFER_SIZE * RECORD_BYTES_SIZE"
      ],
      "metadata": {
        "id": "4QwltkcLaDtu"
      },
      "execution_count": 48,
      "outputs": []
    },
    {
      "cell_type": "code",
      "source": [
        "class Record:\n",
        "\n",
        "  def __init__(self, elements):\n",
        "    self.elements = elements\n",
        "\n",
        "  def __repr__(self):\n",
        "    return f\"{sorted(self.elements, reverse=True)}\"\n",
        "\n",
        "  #Przykład: ints = [3, 10, 20, 30], to:\n",
        "\n",
        "  #ints[0] wynosi 3, co oznacza, że są 3 elementy.\n",
        "  #ints[1: 4] zwraca [10, 20, 30].\n",
        "  #load_from_ints([3, 10, 20, 30]) zwróci obiekt Record z elementami [10, 20, 30].\n",
        "\n",
        "  # tworze obiekt Record z listy liczb całkowitych,\n",
        "  # gdzie pierwsza liczba określa liczbę elementów w Record, a pozostałe liczby są elementami\n",
        "\n",
        "  # (z wykładu) Zazwyczaj rekordy mają nagłówki pokazujące strukturę rekordu\n",
        "  @staticmethod\n",
        "  def load_from_ints(ints):\n",
        "    return Record(ints[1: ints[0] + 1])\n",
        "\n",
        "  # przyklad: obiekt Record z elementami [10, 20] i RECORD_BYTES_SIZE wynosi 10:\n",
        "  #len(self.elements) wynosi 2.\n",
        "  #self.elements to [10, 20].\n",
        "  #[0] * (10 - 2 - 1) daje [0] * 7, czyli siedem zer.\n",
        "  #save_to_ints zwróci [2, 10, 20, 0, 0, 0, 0, 0, 0, 0].\n",
        "\n",
        "  # konwertuje obiekt Record na listę liczb całkowitych, gdzie pierwszy element to liczba elementów,\n",
        "  # a reszta to elementy, z dodatkowymi zerami na końcu do osiągnięcia określonego rozmiaru\n",
        "  def save_to_ints(self):\n",
        "    return [len(self.elements)] + self.elements + [0] * (RECORD_BYTES_SIZE - len(self.elements) - 1)\n",
        "\n",
        "  # Metoda __lt__ porównuje dwa obiekty na podstawie ich unikalnych elementów\n",
        "  def __lt__(self, other):\n",
        "    if other is None:\n",
        "        return True\n",
        "\n",
        "    self_copy = set(self.elements)\n",
        "    other_copy = set(other.elements)\n",
        "\n",
        "    unique_self = self_copy - other_copy\n",
        "    unique_other = other_copy - self_copy\n",
        "\n",
        "    #sprawdzam czy unique_other jest pusty\n",
        "    # jesli jest pusty oznacza to, że wszystkie elementy w other są obecne w self\n",
        "    if not unique_other:\n",
        "      # takim przypadku self nie jest mniejszy od other, więc metoda zwraca False\n",
        "      return False\n",
        "\n",
        "    # #sprawdzam czy unique_self jest pusty\n",
        "    # jeśli unique_self jest pusty, oznacza to, że wszystkie elementy w self są obecne w other\n",
        "    if not unique_self:\n",
        "      # W takim przypadku self jest uznawany za mniejszy od other, więc metoda zwraca True\n",
        "      return True\n",
        "    #  Jeśli największy unikalny element w unique_other jest większy niż największy\n",
        "    # unikalny element w unique_self, metoda zwraca True, co oznacza, że self jest mniejszy od other\n",
        "    return max(unique_other) > max(unique_self)"
      ],
      "metadata": {
        "id": "Ab_dnku5yfSH"
      },
      "execution_count": 1,
      "outputs": []
    },
    {
      "cell_type": "code",
      "execution_count": 50,
      "metadata": {
        "id": "JOHit6x5Vmcx"
      },
      "outputs": [],
      "source": [
        "class ReadBuffer:\n",
        "\n",
        "  def __init__(self, path):\n",
        "\n",
        "    self.path = path\n",
        "    self.read_possition = 0\n",
        "    self.file_possition = 0\n",
        "    self.size = BUFFER_SIZE\n",
        "    self.file_size = os.path.getsize(path)\n",
        "    # liczba rekordów obecnie załadowanych do bufora\n",
        "    self.loaded_size = 0\n",
        "    self.buffer = []\n",
        "    self.disk_reads_count = 0\n",
        "    #ładowanie początkowego zestawu danych do bufora\n",
        "    self.load_next()\n",
        "\n",
        "  def check_more(self):\n",
        "    return (self.file_possition < self.file_size or self.read_possition < self.loaded_size)\n",
        "\n",
        "  # see_next uzywać w SeriesIterator, gdzie weryfikuje gdzie konczy sie seria\n",
        "  # (porownuje kolejne liczba z ta z poprzednia i ustawiam flage end_of_series)\n",
        "  # dzieki see_next() mogą podglądnąc kolejny record bez przesuwania wskaznika\n",
        "\n",
        "  def see_next(self):\n",
        "    return None if self.read_possition == self.loaded_size else self.buffer[self.read_possition]\n",
        "\n",
        "  # ODCZYT REKORDÓW: Metoda read_next zwraca następny rekord\n",
        "  def read_next(self):\n",
        "    # sprawdzam, czy są jeszcze rekordy do odczytu\n",
        "    if not self.check_more():\n",
        "        return None\n",
        "\n",
        "    # jeśli są jakieś rekordy do odczytu to zwracam następny rekord z bufora\n",
        "    record = self.buffer[self.read_possition]\n",
        "    self.read_possition += 1\n",
        "\n",
        "    # jeśli pozycja odczytu osiągnie rozmiar bufora\n",
        "    if self.read_possition == self.size:\n",
        "        # ładuje kolejną porcję danych do bufora (self.load_next())\n",
        "        self.load_next()\n",
        "        # resetuje self.read_possition\n",
        "        self.read_possition = 0\n",
        "\n",
        "    return record\n",
        "\n",
        "  def load_next(self):\n",
        "    self.buffer = []\n",
        "    with open(self.path, \"rb\", buffering =0) as f:\n",
        "      # seek() function is used to change the position of\n",
        "      # the File Handle to a given specific position\n",
        "      # przesuwam wskaźnik odczytu pliku do self.file_pos\n",
        "      f.seek(self.file_possition)\n",
        "\n",
        "      bytes_to_read = min(BYTES_BUFFER_SIZE, self.file_size - self.file_possition)\n",
        "\n",
        "      temporrary_buffer = f.read(bytes_to_read)\n",
        "\n",
        "      self.file_possition += bytes_to_read\n",
        "      self.loaded_size = bytes_to_read / RECORD_BYTES_SIZE\n",
        "      temporrary_ints = list(temporrary_buffer)\n",
        "\n",
        "      # dodaje liste rekordów do bufora (self.buffer)\n",
        "      for i in range(len(temporrary_buffer) // RECORD_BYTES_SIZE):\n",
        "          record_ints = temporrary_ints[\n",
        "                        RECORD_BYTES_SIZE * i:RECORD_BYTES_SIZE * (i + 1)\n",
        "                        ]\n",
        "          self.buffer.append(Record.load_from_ints(record_ints))\n",
        "\n",
        "      # zamykam plik i zwiększam licznik operacji odczytu z dysku (self.disk_reads_count)\n",
        "      f.close()\n",
        "      self.disk_reads_count += 1\n",
        "\n",
        "\n",
        "  def __iter__(self):\n",
        "    return self\n",
        "\n",
        "  def __next__(self):\n",
        "    next_record = self.read_next()\n",
        "    if next_record is None:\n",
        "      raise StopIteration\n",
        "    return next_record\n"
      ]
    },
    {
      "cell_type": "code",
      "source": [
        "class WriteBuffer:\n",
        "\n",
        "  def __init__(self, path, append_mode=False):\n",
        "\n",
        "    self.write_possition = 0\n",
        "    self.buffer = [None] * BUFFER_SIZE\n",
        "\n",
        "    self.path = path\n",
        "    self.size = BUFFER_SIZE\n",
        "\n",
        "    self.series_written = 0\n",
        "    self.last_written = None\n",
        "    self.disk_writes_count = 0\n",
        "\n",
        "    if not append_mode and os.path.isfile(path):\n",
        "      os.remove(path)\n",
        "\n",
        "\n",
        "  def save_next(self):\n",
        "    ints_to_write = []\n",
        "\n",
        "    # dla każdego rekordu wywołuje metodę save_to_ints, która konwertuje rekord na listę liczb całkowitych\n",
        "    for record in self.buffer[0:self.write_possition]:\n",
        "      ints_to_write += record.save_to_ints()\n",
        "    # otwieram plik w trybie append binary (\"ab\"), co oznacza, że dane będą dodawane na końcu pliku w trybie binarnym\n",
        "    # ustawienie buffering=0 oznacza, że operacje zapisu będą natychmiastowe, bez buforowania\n",
        "    with open(self.path,\"ab\", buffering = 0) as f:\n",
        "      f.write(bytearray(ints_to_write))\n",
        "      f.close()\n",
        "      self.disk_writes_count += 1\n",
        "\n",
        "\n",
        "  def flush(self):\n",
        "    # setattr ustawia atrybut write_possition obiektu self na 0\n",
        "    self.write_possition > 0 and (self.save_next() or setattr(self, 'write_possition', 0))\n",
        "\n",
        "  def write_next(self, record):\n",
        "\n",
        "    # jeśli bieżący rekord jest mniejszy od ostatnio zapisanegom, to oznacza to początek nowej serii.\n",
        "    # dlatego licznik zapisanych serii (self.series_written) jest zwiększany o 1\n",
        "    if record < self.last_written:\n",
        "      self.series_written += 1\n",
        "    # jeśli pozycja zapisu osiągnie rozmiar bufora, oznacza to, że bufor jest pełny i trzeba go opróżnić\n",
        "    if self.write_possition == self.size:\n",
        "      self.flush()\n",
        "    # zapis bieżącego rekordu na bieżącej pozycji w buforze\n",
        "    self.buffer[self.write_possition] = record\n",
        "    # zwiększam aktualną pozycję zapisu o 1, przygotowując sie do zapisu następnego rekordu\n",
        "    self.write_possition += 1\n",
        "    # ustawiam ostatnio zapisany rekord na bieżący rekord, aby można było go porównać z następnym rekordem\n",
        "    self.last_written = record"
      ],
      "metadata": {
        "id": "bgR0o8w-g2IO"
      },
      "execution_count": 51,
      "outputs": []
    },
    {
      "cell_type": "code",
      "source": [
        "# Dzięki klasie SeriesIterator weryfikuje gdzie konczy się seria, wiec mogę otrzymać rekordy podzielone na serie\n",
        "class SeriesIterator:\n",
        "\n",
        "  def __init__(self, read_buffer):\n",
        "    self.read_buffer = read_buffer\n",
        "    self.end_of_series = False\n",
        "    self.current_record = None\n",
        "\n",
        "\n",
        "\n",
        "  def read_next(self):\n",
        "    #pdb.set_trace()\n",
        "\n",
        "    # jesli zosała ustawiona flaga konca serii to zwracam None\n",
        "    if self.end_of_series:\n",
        "      return None\n",
        "\n",
        "    # odczytuje kolejne rekordy i przypisuje je do current_record\n",
        "    # tu nalezy zaznaczyc ze read_next() sam przesunie wskaznik na\n",
        "    # kolejny rekord\n",
        "    self.current_record = self.read_buffer.read_next()\n",
        "\n",
        "    if self.current_record is None:\n",
        "      return None\n",
        "\n",
        "    # podgladam jaki bedzie nastepny rekord\n",
        "    next_record = self.read_buffer.see_next()\n",
        "\n",
        "    # tu jesli pogdlądniety rekord jest mniejszy od poprzedniego to oznacza ze zakonczyła sie pewna seria\n",
        "    if next_record is not None and next_record < self.current_record:\n",
        "      # i wtedy nalezy ustawic flage konca serii na true\n",
        "      self.end_of_series = True\n",
        "\n",
        "    # zwracam obecny rekord\n",
        "    return self.current_record\n",
        "\n",
        "  def __iter__(self):\n",
        "    return self\n",
        "\n",
        "  def __next__(self):\n",
        "    # jesli została ustawiona flaga en_of_series na True to self.read_next() będzie równy None\n",
        "    # i wtedy jest StopIteration bo koniec serii\n",
        "    res_record = self.read_next()\n",
        "    if res_record is None:\n",
        "      raise StopIteration\n",
        "    return res_record"
      ],
      "metadata": {
        "id": "w-9og8X1yZFJ"
      },
      "execution_count": 52,
      "outputs": []
    },
    {
      "cell_type": "code",
      "source": [
        "def print_tape(name):\n",
        "\n",
        "  buffer = ReadBuffer(name)\n",
        "  series_counter = 0\n",
        "  records_counter = 0\n",
        "  while buffer.check_more():\n",
        "    #pdb.set_trace()\n",
        "    iterator = SeriesIterator(buffer)\n",
        "    series = []\n",
        "    for r in iterator:\n",
        "      series.append(r)\n",
        "      records_counter +=1\n",
        "    # gdy wyjdzie z petli to dodaje '||' na koniec serii\n",
        "    print(\" \".join(map(str, series)), end=\" | \" if buffer.check_more() else \"\\n\")\n",
        "\n",
        "    # i zwiekszam licznik serii\n",
        "    series_counter +=1\n",
        "\n",
        "  print(f'\\nSeries count: {series_counter}')\n",
        "  print(f'Records count: {records_counter}')\n",
        "\n",
        "def series_count(name):\n",
        "  series_counter = 0\n",
        "  buffer = ReadBuffer(name)\n",
        "  # dopoki bufor zawiera jakies wartosci\n",
        "  while buffer.check_more():\n",
        "    #zliczam serie dzieki SeriesIterator, który weryfikuje gdzie konczy sie seria\n",
        "    iterator = SeriesIterator(buffer)\n",
        "    for _ in iterator:\n",
        "      pass\n",
        "    series_counter +=1\n",
        "  return series_counter"
      ],
      "metadata": {
        "id": "Ccyp4u4C4H33"
      },
      "execution_count": 53,
      "outputs": []
    },
    {
      "cell_type": "code",
      "source": [
        "#Funckja split rozdziela rekordy z pliku źródłowego na dwa docelowe pliki, tworząc w nich sekwencje posortowane\n",
        "def split(first_tape, second_tape,tape):\n",
        "\n",
        "  t1_buffer = ReadBuffer(tape)\n",
        "  t2_buffer = WriteBuffer(first_tape)\n",
        "  t3_buffer = WriteBuffer(second_tape)\n",
        "\n",
        "  # następny rekord z pliku źródłowego za pośrednictwem bufora odczytu (ReadBuffer)\n",
        "  last_record = t1_buffer.read_next()\n",
        "  # do bufora t2 zapisuje 1 element z t1\n",
        "  t2_buffer.write_next(last_record)\n",
        "\n",
        "  destination_buffer = t2_buffer\n",
        "  # zaczynam zapisywac do t2 i jesli kolejny record jest wiekszy od poprzednika to zapisuje w t3\n",
        "  # calosc opiera sie na odpowiedniej zmianie destination_buffer\n",
        "  for r in t1_buffer:\n",
        "    #pdb.set_trace()\n",
        "    if r < last_record:\n",
        "      destination_buffer = t3_buffer if destination_buffer == t2_buffer else t2_buffer\n",
        "\n",
        "    (t2_buffer if destination_buffer == t2_buffer else t3_buffer).write_next(r)\n",
        "    last_record = r\n",
        "\n",
        "  # Flushing buforów na końcu zapisuje wszystkie pozostałe dane z buforów do plików, zapewniając,\n",
        "  # że wszystkie dane są zapisywane i bufor jest pusty przed kolejnymi operacjami\n",
        "  t2_buffer.flush()\n",
        "  t3_buffer.flush()\n",
        "\n",
        "  #dodane\n",
        "\n",
        "  print(\"\\nTape 1: \")\n",
        "  #print(t2_buffer)\n",
        "  print_tape(first_tape)\n",
        "  print(\"\\nTape 2 :\")\n",
        "  print_tape(second_tape)\n",
        "\n",
        "  return Metadane(t1_buffer.disk_reads_count,\n",
        "  # t2_buffer.disk_writes_count + t3_buffer.disk_writes_count: Łączna liczba operacji zapisu na dysku dla obu buforów\n",
        "  t2_buffer.disk_writes_count + t3_buffer.disk_writes_count,\n",
        "  # t2_buffer.series_written + t3_buffer.series_written: Łączna liczba sekwencji posortowanych (runs) zapisanych do obu buforów\n",
        "  t2_buffer.series_written + t3_buffer.series_written)"
      ],
      "metadata": {
        "id": "mJXcTw4m8Vun"
      },
      "execution_count": 54,
      "outputs": []
    },
    {
      "cell_type": "code",
      "source": [
        "# Funkcja series_merge jest używana do scalenia dwóch posortowanych sekwencji rekordów w jedną posortowaną sekwencję\n",
        "def series_merge(first_tape, second_tape, write_buffer: WriteBuffer):\n",
        "\n",
        "  # current_ser1 - kolejne wartosc z t1\n",
        "  records_in_tape1 = first_tape.read_next()\n",
        "  # current_ser2 - kolejne wartosc z t2\n",
        "  records_in_tape2 = second_tape.read_next()\n",
        "  #pdb.set_trace()\n",
        "  while records_in_tape1 is not None and records_in_tape2 is not None:\n",
        "\n",
        "    # sprawdzam czy rekord z tasmy 1 jest mniejszy niz z tasmy 2\n",
        "    if records_in_tape1 < records_in_tape2:\n",
        "      # jesli rekord z tasmy 1 jest mniejszy to zapisuje go (ten z pierwszej tasmy) do buffora\n",
        "      write_buffer.write_next(records_in_tape1)\n",
        "      # i odczytuje kolejny rekord\n",
        "      records_in_tape1 =  first_tape.read_next()\n",
        "    else:\n",
        "      # jesli rekord z tasmy 1 jest wiekszy niz z tasmy 2 to zapisuje rekord (z drugiej tasmy) do bufora\n",
        "      write_buffer.write_next(records_in_tape2)\n",
        "      # odczytuje kolejny rekord z drugiej tasmy\n",
        "      records_in_tape2 = second_tape.read_next()\n",
        "\n",
        "  # gdy wyjde poza tasme\n",
        "  for tape in (first_tape, second_tape):\n",
        "    #pdb.set_trace()\n",
        "    # teraz sprawdzam czy to z tasmy 1 czy z tasmy 2 wyszedłem poza nią (czyli uzyskałem None)\n",
        "    possibly_none_value = records_in_tape1 if tape == first_tape else records_in_tape2\n",
        "    #pdb.set_trace()\n",
        "    if possibly_none_value is not None:\n",
        "      # brakujacy rekord z taśmy z której nie wyszedłem zapisuje do write_buffer\n",
        "      write_buffer.write_next(possibly_none_value)\n",
        "      # na taśmie z której nie uzyskałem None pozostały mi jeszcze wartości\n",
        "\n",
        "\n",
        "      # musze jeszcze sprawdzic pozostałe rekordy z tej\n",
        "      # z ktorej jeszcze nie wypisałem wszystkich rekordow\n",
        "      for remaining_records in tape:\n",
        "        #pdb.set_trace()\n",
        "        #print(f\"Brakujące: {remaining_records}\")\n",
        "        #zapisuje pozstałe rekordy\n",
        "        write_buffer.write_next(remaining_records)"
      ],
      "metadata": {
        "id": "SYR8ZGwPEXQQ"
      },
      "execution_count": 55,
      "outputs": []
    },
    {
      "cell_type": "code",
      "source": [
        "# Funkcja merge łączy dwie posortowane tasmy (tasme1 i tasme2) w jedną większą posortowaną sekwencję (wywołując series_merge)\n",
        "def merge(first_tape, second_tape, tape):\n",
        "  t1_buffer = WriteBuffer(tape)\n",
        "\n",
        "  t2_buffer = ReadBuffer(first_tape)# tasma 1\n",
        "  t3_buffer = ReadBuffer(second_tape)# tasma 2\n",
        "  #pdb.set_trace()\n",
        "  while t2_buffer.check_more() and t3_buffer.check_more():\n",
        "    series_merge(SeriesIterator(t2_buffer), SeriesIterator(t3_buffer), t1_buffer)\n",
        "\n",
        "  # z bufora2 i bufora3 zapisuje wszystko do bufora 1\n",
        "  for buffer in (t2_buffer, t3_buffer):\n",
        "    for r in buffer:\n",
        "        t1_buffer.write_next(r)\n",
        "\n",
        "  t1_buffer.flush()\n",
        "\n",
        "  return Metadane(t2_buffer.disk_reads_count + t3_buffer.disk_reads_count,\n",
        "                  t1_buffer.disk_writes_count,\n",
        "                  t1_buffer.series_written)"
      ],
      "metadata": {
        "id": "GMb2t6eoJCeU"
      },
      "execution_count": 56,
      "outputs": []
    },
    {
      "cell_type": "code",
      "source": [
        "def prepare_tapes():\n",
        "\n",
        "  tape1 = WriteBuffer(\"tapes/t1\")\n",
        "\n",
        "  # kopuje wszystko z wejsciowej tasmy na tasme1\n",
        "  for r in ReadBuffer(\"tapes/start_tape\"):\n",
        "    tape1.write_next(r)\n",
        "\n",
        "  tape1.flush()\n",
        "\n",
        "  for tape in (\"t2\", \"t3\"):\n",
        "    path = f\"tapes/{tape}\"\n",
        "    if os.path.isfile(path):\n",
        "        os.remove(path)"
      ],
      "metadata": {
        "id": "eLbFKcaULkOU"
      },
      "execution_count": 57,
      "outputs": []
    },
    {
      "cell_type": "code",
      "source": [
        "def tape_sort(tape):\n",
        "\n",
        "  phases_count = 0\n",
        "  series_written = 0\n",
        "\n",
        "  reads_count = 0\n",
        "  writes_count = 0\n",
        "  # jeśli liczba serii wynosi 1, wszystkie dane na taśmie są już posortowane\n",
        "  while series_written != 1:\n",
        "\n",
        "    split_information = split(\"tapes/t2\", \"tapes/t3\", tape)\n",
        "    merge_information = merge(\"tapes/t2\", \"tapes/t3\", tape)\n",
        "\n",
        "    series_written = merge_information.series_count\n",
        "\n",
        "    reads_count += split_information.reads_count\n",
        "    reads_count += merge_information.reads_count\n",
        "\n",
        "    writes_count += split_information.writes_count\n",
        "    writes_count += merge_information.writes_count\n",
        "\n",
        "\n",
        "    print(f'\\nPhase: {phases_count + 1}')\n",
        "    print(\"Tape 3:\")\n",
        "    print_tape(tape)\n",
        "\n",
        "    phases_count +=1\n",
        "\n",
        "  # zwracam obiekt MetaSorting zawierający liczbę odczytów, zapisów i faz sortowania, co pozwala na analizę wydajności algorytmu.\n",
        "  return MetaSorting(reads_count, writes_count, phases_count)\n"
      ],
      "metadata": {
        "id": "0uS6Ht3IKN4y"
      },
      "execution_count": 58,
      "outputs": []
    },
    {
      "cell_type": "code",
      "source": [
        "from collections import namedtuple\n",
        "\n",
        "Metadane = namedtuple('Metadane', ['reads_count', 'writes_count', 'series_count'])\n",
        "MetaSorting = namedtuple('MetaSorting', ['reads_count', 'writes_count', 'phases_count'])"
      ],
      "metadata": {
        "id": "Fzf8_ulm9vjJ"
      },
      "execution_count": 59,
      "outputs": []
    },
    {
      "cell_type": "markdown",
      "source": [
        "Wywoływanie"
      ],
      "metadata": {
        "id": "AOfl5mDrVu6h"
      }
    },
    {
      "cell_type": "code",
      "source": [
        "folder_name = 'tapes'\n",
        "os.makedirs(folder_name, exist_ok=True)"
      ],
      "metadata": {
        "id": "0CR1HGkh3GC2"
      },
      "execution_count": 60,
      "outputs": []
    },
    {
      "cell_type": "code",
      "source": [
        "!rm tapes/t1\n",
        "!rm tapes/t2\n",
        "!rm tapes/t3"
      ],
      "metadata": {
        "id": "xlKDdceimqQe"
      },
      "execution_count": 61,
      "outputs": []
    },
    {
      "cell_type": "code",
      "source": [
        "tape = \"tapes/t1\"\n",
        "test_file_path = \"tapes/test\""
      ],
      "metadata": {
        "id": "CQKN1X4TXQDW"
      },
      "execution_count": 62,
      "outputs": []
    },
    {
      "cell_type": "code",
      "source": [
        "write_buffer = WriteBuffer(tape, append_mode=True)\n",
        "count = 0\n",
        "\n",
        "with open(test_file_path) as test_file:\n",
        "  for line in test_file:\n",
        "    set_numbers = [int(s) for s in line.rstrip().split()]\n",
        "    new_record = Record(set_numbers)\n",
        "    write_buffer.write_next(new_record)\n",
        "    count += 1\n",
        "write_buffer.flush()\n",
        "print(f'Added {count} records to tape')"
      ],
      "metadata": {
        "colab": {
          "base_uri": "https://localhost:8080/"
        },
        "id": "S6jmlsibWH69",
        "outputId": "8c6f2ecf-9118-4f01-bafe-3df3372f59a0"
      },
      "execution_count": 63,
      "outputs": [
        {
          "output_type": "stream",
          "name": "stdout",
          "text": [
            "Added 8 records to tape\n"
          ]
        }
      ]
    },
    {
      "cell_type": "code",
      "source": [
        "#print(f\"Displaying tape {tape}\")\n",
        "#print_tape(tape)"
      ],
      "metadata": {
        "id": "84rncA6egVEH"
      },
      "execution_count": 64,
      "outputs": []
    },
    {
      "cell_type": "code",
      "source": [
        "print(f\"Sorting tape {tape}\")\n",
        "print(f\"Tape before sorting:\")\n",
        "print_tape(tape)\n",
        "sort_info = tape_sort(tape)\n",
        "#sort_info = tape_sort(tape)\n",
        "print(f\"\\nTape after sorting:\")\n",
        "print_tape(tape)\n",
        "print(f\"Metadata:\")\n",
        "print(f\"Phase counter: {sort_info.phases_count}\")\n",
        "print(f\"Reads counter: {sort_info.reads_count}\")\n",
        "print(f\"Writes counter: {sort_info.writes_count}\")"
      ],
      "metadata": {
        "colab": {
          "base_uri": "https://localhost:8080/"
        },
        "id": "H0uKzuC3X8-m",
        "outputId": "37f25122-9048-4205-cab2-28eecd78c0f7"
      },
      "execution_count": 65,
      "outputs": [
        {
          "output_type": "stream",
          "name": "stdout",
          "text": [
            "Sorting tape tapes/t1\n",
            "Tape before sorting:\n",
            "[44] [55] | [12] [42] [94] | [18] | [6] [67]\n",
            "\n",
            "Series count: 4\n",
            "Records count: 8\n",
            "\n",
            "Tape 1: \n",
            "[44] [55] | [18]\n",
            "\n",
            "Series count: 2\n",
            "Records count: 3\n",
            "\n",
            "Tape 2 :\n",
            "[12] [42] [94] | [6] [67]\n",
            "\n",
            "Series count: 2\n",
            "Records count: 5\n",
            "\n",
            "Phase: 1\n",
            "Tape 3:\n",
            "[12] [42] [44] [55] [94] | [6] [18] [67]\n",
            "\n",
            "Series count: 2\n",
            "Records count: 8\n",
            "\n",
            "Tape 1: \n",
            "[12] [42] [44] [55] [94]\n",
            "\n",
            "Series count: 1\n",
            "Records count: 5\n",
            "\n",
            "Tape 2 :\n",
            "[6] [18] [67]\n",
            "\n",
            "Series count: 1\n",
            "Records count: 3\n",
            "\n",
            "Phase: 2\n",
            "Tape 3:\n",
            "[6] [12] [18] [42] [44] [55] [67] [94]\n",
            "\n",
            "Series count: 1\n",
            "Records count: 8\n",
            "\n",
            "Tape after sorting:\n",
            "[6] [12] [18] [42] [44] [55] [67] [94]\n",
            "\n",
            "Series count: 1\n",
            "Records count: 8\n",
            "Metadata:\n",
            "Phase counter: 2\n",
            "Reads counter: 6\n",
            "Writes counter: 6\n"
          ]
        }
      ]
    },
    {
      "cell_type": "code",
      "source": [],
      "metadata": {
        "id": "0O4tpbG1YL0n"
      },
      "execution_count": 24,
      "outputs": []
    }
  ]
}