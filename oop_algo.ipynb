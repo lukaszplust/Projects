{
  "nbformat": 4,
  "nbformat_minor": 0,
  "metadata": {
    "colab": {
      "provenance": [],
      "authorship_tag": "ABX9TyPm1by1wWfk+HoemRvoNDv2",
      "include_colab_link": true
    },
    "kernelspec": {
      "name": "python3",
      "display_name": "Python 3"
    },
    "language_info": {
      "name": "python"
    }
  },
  "cells": [
    {
      "cell_type": "markdown",
      "metadata": {
        "id": "view-in-github",
        "colab_type": "text"
      },
      "source": [
        "<a href=\"https://colab.research.google.com/github/lukaszplust/Projects/blob/main/oop_algo.ipynb\" target=\"_parent\"><img src=\"https://colab.research.google.com/assets/colab-badge.svg\" alt=\"Open In Colab\"/></a>"
      ]
    },
    {
      "cell_type": "markdown",
      "source": [
        "## Hermetyzacja (Encapsulation)\n",
        "\n",
        "Ukrywanie wewnętrznych szczegółów klasy i udostępnianie tylko niezbędnych interfejsów"
      ],
      "metadata": {
        "id": "YzCj_OUkWZUc"
      }
    },
    {
      "cell_type": "code",
      "execution_count": 1,
      "metadata": {
        "colab": {
          "base_uri": "https://localhost:8080/"
        },
        "id": "Gj4vHqH8WPvy",
        "outputId": "2f3637ae-b508-4304-c889-14d17362be2b"
      },
      "outputs": [
        {
          "output_type": "stream",
          "name": "stdout",
          "text": [
            "1500\n"
          ]
        }
      ],
      "source": [
        "class BankAccount:\n",
        "    def __init__(self, balance):\n",
        "        self.__balance = balance  #prywatny atrybut (ukryty)\n",
        "\n",
        "    def deposit(self, amount):\n",
        "        self.__balance += amount\n",
        "\n",
        "    def get_balance(self):\n",
        "        return self.__balance  # publiczna metoda do uzyskania salda\n",
        "\n",
        "account = BankAccount(1000)\n",
        "account.deposit(500)\n",
        "print(account.get_balance())  # Output: 1500"
      ]
    },
    {
      "cell_type": "markdown",
      "source": [
        "Nie można uzyskać dostępu do _ _balance bezpośrednio (account.__balance)"
      ],
      "metadata": {
        "id": "cCvXj43gWlir"
      }
    },
    {
      "cell_type": "markdown",
      "source": [
        "## Dziedziczenie (Inheritance)\n",
        "\n",
        "Pozwala jednej klasie przejmować funkcje innej klasy"
      ],
      "metadata": {
        "id": "xNPsWG0rXhXX"
      }
    },
    {
      "cell_type": "code",
      "source": [
        "class Animal:\n",
        "    def speak(self):\n",
        "        return \"Dźwięk zwierzęcia\"\n",
        "\n",
        "class Dog(Animal):  # dziedziczenie z klasy Animal\n",
        "    def speak(self):\n",
        "        return \"Hau Hau!\"\n",
        "\n",
        "dog = Dog()\n",
        "print(dog.speak())  # Output: Hau Hau!"
      ],
      "metadata": {
        "colab": {
          "base_uri": "https://localhost:8080/"
        },
        "id": "tA9g78pxWl3F",
        "outputId": "f97e4374-362a-4538-e97b-8887aabe53dc"
      },
      "execution_count": 2,
      "outputs": [
        {
          "output_type": "stream",
          "name": "stdout",
          "text": [
            "Hau Hau!\n"
          ]
        }
      ]
    },
    {
      "cell_type": "markdown",
      "source": [
        "Dog dziedziczy metodę speak(), ale ją nadpisuje"
      ],
      "metadata": {
        "id": "HE5sly4xXvzR"
      }
    },
    {
      "cell_type": "markdown",
      "source": [
        "## Polimorfizm (Polymorphism)\n",
        "\n",
        "Pozwala różnym klasom używać tej samej metody, ale z różnym zachowaniem"
      ],
      "metadata": {
        "id": "tQ6WNqKGXzpr"
      }
    },
    {
      "cell_type": "code",
      "source": [
        "class Cat:\n",
        "    def speak(self):\n",
        "        return \"Miau!\"\n",
        "\n",
        "class Dog:\n",
        "    def speak(self):\n",
        "        return \"Hau Hau!\"\n",
        "\n",
        "def make_sound(animal):\n",
        "    print(animal.speak())\n",
        "\n",
        "make_sound(Cat())  # Output: Miau!\n",
        "make_sound(Dog())  # Output: Hau Hau!"
      ],
      "metadata": {
        "colab": {
          "base_uri": "https://localhost:8080/"
        },
        "id": "UB-B6A5qXwlT",
        "outputId": "60e20120-fb4f-40f4-d7a6-0ec77852f489"
      },
      "execution_count": 3,
      "outputs": [
        {
          "output_type": "stream",
          "name": "stdout",
          "text": [
            "Miau!\n",
            "Hau Hau!\n"
          ]
        }
      ]
    },
    {
      "cell_type": "markdown",
      "source": [
        "Metoda speak() działa dla różnych klas, ale zwraca różne wartości"
      ],
      "metadata": {
        "id": "Qa8bXotlo9II"
      }
    },
    {
      "cell_type": "markdown",
      "source": [
        "## Abstrakcja (Abstraction)\n",
        "\n",
        "Ukrywanie szczegółów implementacyjnych i eksponowanie tylko istotnych metod"
      ],
      "metadata": {
        "id": "cMoV6lSrZwC1"
      }
    },
    {
      "cell_type": "code",
      "source": [
        "from abc import ABC, abstractmethod\n",
        "\n",
        "# Klasa abstrakcyjna (nie można jej użyć bezpośrednio)\n",
        "class Animal(ABC):\n",
        "    @abstractmethod\n",
        "    def move(self):  # Każde zwierzę porusza się inaczej\n",
        "        #print(\"robie\")\n",
        "        pass\n",
        "\n",
        "# Podklasa - Ptak lata\n",
        "class Bird(Animal):\n",
        "    def move(self):\n",
        "        return \"Ptak lata w powietrzu\"\n",
        "\n",
        "# Podklasa - Ryba pływa\n",
        "class Fish(Animal):\n",
        "    def move(self):\n",
        "        return \"Ryba pływa w wodzie\"\n",
        "\n",
        "# Podklasa - Pies biega\n",
        "class Dog(Animal):\n",
        "    def move(self):\n",
        "        return \"Pies biega po ziemi\"\n",
        "\n",
        "# tworze obiekty różnych zwierząt\n",
        "bird = Bird()\n",
        "fish = Fish()\n",
        "dog = Dog()\n",
        "# animal = Animal() -> Can't instantiate abstract class Animal with abstract method move\n",
        "print(bird.move())  # Output: Ptak lata w powietrzu\n",
        "print(fish.move())  # Output: Ryba pływa w wodzie\n",
        "print(dog.move())   # Output: Pies biega po ziemi\n"
      ],
      "metadata": {
        "colab": {
          "base_uri": "https://localhost:8080/"
        },
        "id": "c2ZSrsaxbzhg",
        "outputId": "b1dc6df6-51e1-4f3c-9341-17bdd585d60f"
      },
      "execution_count": 14,
      "outputs": [
        {
          "output_type": "stream",
          "name": "stdout",
          "text": [
            "Ptak lata w powietrzu\n",
            "Ryba pływa w wodzie\n",
            "Pies biega po ziemi\n"
          ]
        }
      ]
    },
    {
      "cell_type": "markdown",
      "source": [
        "DFS idzie jak najgłębiej w dół drzewa/grafu, zanim się cofa.\n",
        "Używa stosu (LIFO - Last In, First Out).\n",
        "\n",
        "DFS (głębokie eksplorowanie)\n",
        "\n",
        "a) Gdy szukasz ścieżki (np. labirynt, grafy cykliczne).\n",
        "\n",
        "b) Gdy chcesz sprawdzić czy istnieje połączenie.\n",
        "\n",
        "c) Może być szybszy przy grafach rzadkich.\n",
        "\n",
        "\n",
        "BFS odwiedza wszystkich sąsiadów jednego poziomu, zanim przejdzie głębiej.\n",
        "Używa kolejki (FIFO - First In, First Out)\n",
        "\n",
        "\n",
        "BFS (szerokie eksplorowanie)\n",
        "\n",
        "a) Gdy szukasz najkrótszej ścieżki w grafie bez wag.\n",
        "\n",
        "b) Przy eksploracji węzłów warstwami (np. sieć społecznościowa).\n",
        "\n",
        "c) Gdy graf jest płytki (mało poziomów)"
      ],
      "metadata": {
        "id": "M-6RykQu-K2b"
      }
    },
    {
      "cell_type": "markdown",
      "source": [
        "## DFS"
      ],
      "metadata": {
        "id": "4H794banp7vr"
      }
    },
    {
      "cell_type": "markdown",
      "source": [
        "DFS (przeszukiwanie w głąb) działa na stosie (LIFO - Last In, First Out).\n",
        "Gdy dodamy sąsiadów A = ['B', 'C'] normalnie, B trafiłby na stos przed C, więc pierwszy byłby sprawdzony C"
      ],
      "metadata": {
        "id": "2rDnNwrQxFQE"
      }
    },
    {
      "cell_type": "code",
      "source": [
        "def dfs(graph, start):\n",
        "    #pdb.set_trace()\n",
        "    visited = set()  # zbiór odwiedzonych węzłów\n",
        "    stack = [start]  # stos do eksploracji\n",
        "    #print(visited)\n",
        "    #print(stack)\n",
        "    # stack = ['A']\n",
        "    while stack:\n",
        "        node = stack.pop()  # pobieramy ostatni element (LIFO)\n",
        "        #print(node)\n",
        "        if node not in visited:\n",
        "            print(node, end=\" \")  # przetwarzamy węzeł\n",
        "            visited.add(node)\n",
        "            stack.extend(reversed(graph[node]))  # dodajemy sąsiadów w odwrotej kolejnosci do stosu\n",
        "            # musze odwrocic bo chce isc od lewej strony na maksa w dol\n",
        "            # jezeli bym nie odwrocil to sprawdzalbym dziecko z prawej, a dzieki temu zawsze mam\n",
        "            # lewe dziecko do popa\n",
        "# Przykładowy graf jako lista sąsiedztwa\n",
        "graph = {\n",
        "    'A': ['B', 'C'],\n",
        "    'B': ['D', 'E'],\n",
        "    'C': ['F'],\n",
        "    'D': [],\n",
        "    'E': ['F'],\n",
        "    'F': []\n",
        "}\n",
        "\n",
        "#print(\"DFS:\", end=\" \")\n",
        "dfs(graph, 'A')"
      ],
      "metadata": {
        "colab": {
          "base_uri": "https://localhost:8080/"
        },
        "id": "fwnPIDCJafWg",
        "outputId": "3483c430-d860-4823-c87e-98de98aff5b5"
      },
      "execution_count": 38,
      "outputs": [
        {
          "output_type": "stream",
          "name": "stdout",
          "text": [
            "A B D E F C "
          ]
        }
      ]
    },
    {
      "cell_type": "markdown",
      "source": [
        "BFS odwiedza wszystkie sąsiednie węzły, zanim przejdzie głębiej"
      ],
      "metadata": {
        "id": "PG8XAE2q4m-n"
      }
    },
    {
      "cell_type": "code",
      "source": [
        "from collections import deque\n",
        "import pdb\n",
        "def bfs(graph, start):\n",
        "    #pdb.set_trace()\n",
        "    visited = set()  # zbiór odwiedzonych węzłów\n",
        "    queue = deque([start])  # kolejka do eksploracji (FIFO)\n",
        "    while queue:\n",
        "        node = queue.popleft()  # pobieramy pierwszy element (FIFO)\n",
        "        #print(node)\n",
        "        if node not in visited:\n",
        "            print(node, end=\" \")  # przetwarzamy węzeł\n",
        "            visited.add(node)\n",
        "            queue.extend(graph[node])  # dodajemy sąsiadów do kolejki\n",
        "\n",
        "graph = {\n",
        "    'A': ['B', 'C'],\n",
        "    'B': ['D', 'E'],\n",
        "    'C': ['F'],\n",
        "    'D': [],\n",
        "    'E': ['F'],\n",
        "    'F': []\n",
        "}\n",
        "\n",
        "print(\"\\nBFS:\", end=\" \")\n",
        "bfs(graph, 'A')"
      ],
      "metadata": {
        "colab": {
          "base_uri": "https://localhost:8080/"
        },
        "id": "F9Je89xop99g",
        "outputId": "5f6868b9-9e1e-4d0b-ea4d-cde5312badc3"
      },
      "execution_count": 39,
      "outputs": [
        {
          "output_type": "stream",
          "name": "stdout",
          "text": [
            "\n",
            "BFS: A B C D E F "
          ]
        }
      ]
    },
    {
      "cell_type": "code",
      "source": [
        "#dzieki kolejce i popujac od lewej przechodze kolejno przez wszystkie od lewej do prawej"
      ],
      "metadata": {
        "id": "YMTZaE9N4uF-"
      },
      "execution_count": 40,
      "outputs": []
    },
    {
      "cell_type": "code",
      "source": [],
      "metadata": {
        "id": "PTEjhTI7AM6v"
      },
      "execution_count": null,
      "outputs": []
    }
  ]
}