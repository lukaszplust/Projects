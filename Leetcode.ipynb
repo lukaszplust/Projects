{
  "nbformat": 4,
  "nbformat_minor": 0,
  "metadata": {
    "colab": {
      "provenance": [],
      "authorship_tag": "ABX9TyMnj1fa4L0K+1q0u1koJ/pS",
      "include_colab_link": true
    },
    "kernelspec": {
      "name": "python3",
      "display_name": "Python 3"
    },
    "language_info": {
      "name": "python"
    }
  },
  "cells": [
    {
      "cell_type": "markdown",
      "metadata": {
        "id": "view-in-github",
        "colab_type": "text"
      },
      "source": [
        "<a href=\"https://colab.research.google.com/github/lukaszplust/Projects/blob/main/Leetcode.ipynb\" target=\"_parent\"><img src=\"https://colab.research.google.com/assets/colab-badge.svg\" alt=\"Open In Colab\"/></a>"
      ]
    },
    {
      "cell_type": "markdown",
      "source": [
        "Leetcode 1"
      ],
      "metadata": {
        "id": "_kHcTfTCJh5f"
      }
    },
    {
      "cell_type": "code",
      "execution_count": 19,
      "metadata": {
        "colab": {
          "base_uri": "https://localhost:8080/"
        },
        "id": "92qjp1axJhgQ",
        "outputId": "d7ea536f-d5c4-44fc-9391-efaf896c3b9b"
      },
      "outputs": [
        {
          "output_type": "stream",
          "name": "stdout",
          "text": [
            "[0, 1]\n"
          ]
        }
      ],
      "source": [
        "from typing import List\n",
        "import pdb\n",
        "class Solution:\n",
        "    def twoSum(self, nums: List[int], target: int) -> List[int]:\n",
        "        #pdb.set_trace()\n",
        "\n",
        "        n = len(nums)\n",
        "\n",
        "        for i in range(n-1):\n",
        "          for j in range(i+1, n):\n",
        "            if nums[i] + nums[j] == target:\n",
        "              return [i,j]\n",
        "        return []\n",
        "\n",
        "solution = Solution()\n",
        "\n",
        "#nums = [3,2,4]\n",
        "#target = 6\n",
        "nums = [2,7,11,15]\n",
        "target = 9\n",
        "result = solution.twoSum(nums, target)\n",
        "\n",
        "# Wyświetlamy wynik\n",
        "print(result)"
      ]
    },
    {
      "cell_type": "markdown",
      "source": [
        "Leetcode 9"
      ],
      "metadata": {
        "id": "O0wEB8o3drMO"
      }
    },
    {
      "cell_type": "code",
      "source": [
        "class Solution:\n",
        "    def isPalindrome(self, x: int) -> bool:\n",
        "        rev_num = 0\n",
        "        new_x = x\n",
        "\n",
        "        while new_x > 0:\n",
        "          rev_num = rev_num * 10 + new_x % 10\n",
        "\n",
        "          new_x = new_x // 10\n",
        "\n",
        "        return rev_num == x\n",
        "\n",
        "\n",
        "solution = Solution()\n",
        "\n",
        "x = 121\n",
        "solution = solution.isPalindrome(x)\n",
        "\n",
        "print(solution)"
      ],
      "metadata": {
        "colab": {
          "base_uri": "https://localhost:8080/"
        },
        "id": "pzvOIoLrJtUS",
        "outputId": "fd364dff-b726-4d98-e5aa-9e60c491558d"
      },
      "execution_count": 56,
      "outputs": [
        {
          "output_type": "stream",
          "name": "stdout",
          "text": [
            "True\n"
          ]
        }
      ]
    },
    {
      "cell_type": "markdown",
      "source": [
        "Leetcode 13"
      ],
      "metadata": {
        "id": "t9E5XsKEmA2F"
      }
    },
    {
      "cell_type": "code",
      "source": [
        "class Solution:\n",
        "    def romanToInt(self, s: str) -> int:\n",
        "\n",
        "        sum = 0\n",
        "        temp_value = 0\n",
        "        temp_sum = 0\n",
        "\n",
        "        numbers = {\n",
        "                   'I' : 1,\n",
        "                   'V' : 5,\n",
        "                   'X' : 10,\n",
        "                   'L' : 50,\n",
        "                   'C' : 100,\n",
        "                   'D' : 500,\n",
        "                   'M' : 1000}\n",
        "\n",
        "        for i in s:\n",
        "          for key, value in numbers.items():\n",
        "              if i == key:\n",
        "                #pdb.set_trace()\n",
        "                if temp_value < value and temp_value != 0:\n",
        "                  temp_sum = value - temp_value # ewneutlana roznica # 4\n",
        "                else:\n",
        "                  temp_sum = temp_sum+value# jak nie ma roznicy to normalnie dodaje\n",
        "                  sum = sum + temp_sum\n",
        "                temp_value = value\n",
        "                sum = temp_sum\n",
        "\n",
        "\n",
        "\n",
        "        return sum\n",
        "\n",
        "solution = Solution()\n",
        "\n",
        "s = \"IVIV\"\n",
        "\n",
        "solution = solution.romanToInt(s)\n",
        "\n",
        "print(solution)"
      ],
      "metadata": {
        "colab": {
          "base_uri": "https://localhost:8080/"
        },
        "id": "S5iKVsjbd4C-",
        "outputId": "c78e980f-fd1e-446e-a4c0-5b81d3ec5832"
      },
      "execution_count": 91,
      "outputs": [
        {
          "output_type": "stream",
          "name": "stdout",
          "text": [
            "4\n"
          ]
        }
      ]
    },
    {
      "cell_type": "markdown",
      "source": [
        "Leetcode 14"
      ],
      "metadata": {
        "id": "86LmBAZa7eLU"
      }
    },
    {
      "cell_type": "code",
      "source": [
        "class Solution:\n",
        "    def longestCommonPrefix(self, strs: List[str]) -> str:\n",
        "      strs = sorted(strs)\n",
        "      result = \"\"\n",
        "      first = strs[0]\n",
        "      last = strs[-1]\n",
        "\n",
        "      # tutaj ustalam petle ktora powtorzy sie maxymalnie tyle razy ile wynosi po posortowaniu dlugosc pierwszego ciagu\n",
        "\n",
        "      # cala sztuczka polega na tym ze gdy posortuje wyrazy to bedzie mnie interesował tylko 1 i ostatni ciag bo przeciez te w srodku i tak musza zawierac to co 1 i ostatni\n",
        "\n",
        "      # potem porownuje literki i dodaje te ktore sa identyczne\n",
        "\n",
        "\n",
        "      for i in range(min(len(first),len(last))):\n",
        "        if(first[i]!=last[i]):\n",
        "          return result\n",
        "\n",
        "        result +=  first[i]\n",
        "      return result\n",
        "\n",
        "\n",
        "\n",
        "\n",
        "solution = Solution()\n",
        "\n",
        "strs = [\"flower\",\"flow\",\"flight\"]\n",
        "\n",
        "solution = solution.longestCommonPrefix(strs)\n",
        "print(solution)"
      ],
      "metadata": {
        "colab": {
          "base_uri": "https://localhost:8080/"
        },
        "id": "QWVvDOMJn7Tu",
        "outputId": "9f657baa-c933-4714-ff19-a921bf0c8271"
      },
      "execution_count": 172,
      "outputs": [
        {
          "output_type": "stream",
          "name": "stdout",
          "text": [
            "fl\n"
          ]
        }
      ]
    },
    {
      "cell_type": "code",
      "source": [],
      "metadata": {
        "id": "6PaTiviaNDAN"
      },
      "execution_count": null,
      "outputs": []
    }
  ]
}