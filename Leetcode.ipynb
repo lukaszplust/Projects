{
  "cells": [
    {
      "cell_type": "markdown",
      "metadata": {
        "id": "view-in-github",
        "colab_type": "text"
      },
      "source": [
        "<a href=\"https://colab.research.google.com/github/lukaszplust/Projects/blob/main/Leetcode.ipynb\" target=\"_parent\"><img src=\"https://colab.research.google.com/assets/colab-badge.svg\" alt=\"Open In Colab\"/></a>"
      ]
    },
    {
      "cell_type": "code",
      "source": [
        "from typing import List\n",
        "import pdb"
      ],
      "metadata": {
        "id": "cx0bs2ssX2e1"
      },
      "execution_count": 94,
      "outputs": []
    },
    {
      "cell_type": "markdown",
      "metadata": {
        "id": "_kHcTfTCJh5f"
      },
      "source": [
        "Leetcode 1"
      ]
    },
    {
      "cell_type": "code",
      "execution_count": null,
      "metadata": {
        "colab": {
          "base_uri": "https://localhost:8080/"
        },
        "id": "92qjp1axJhgQ",
        "outputId": "d7ea536f-d5c4-44fc-9391-efaf896c3b9b"
      },
      "outputs": [
        {
          "name": "stdout",
          "output_type": "stream",
          "text": [
            "[0, 1]\n"
          ]
        }
      ],
      "source": [
        "from typing import List\n",
        "import pdb\n",
        "class Solution:\n",
        "    def twoSum(self, nums: List[int], target: int) -> List[int]:\n",
        "        #pdb.set_trace()\n",
        "\n",
        "        n = len(nums)\n",
        "\n",
        "        for i in range(n-1):\n",
        "          for j in range(i+1, n):\n",
        "            if nums[i] + nums[j] == target:\n",
        "              return [i,j]\n",
        "        return []\n",
        "\n",
        "solution = Solution()\n",
        "\n",
        "#nums = [3,2,4]\n",
        "#target = 6\n",
        "nums = [2,7,11,15]\n",
        "target = 9\n",
        "result = solution.twoSum(nums, target)\n",
        "\n",
        "# Wyświetlamy wynik\n",
        "print(result)"
      ]
    },
    {
      "cell_type": "markdown",
      "metadata": {
        "id": "O0wEB8o3drMO"
      },
      "source": [
        "Leetcode 9"
      ]
    },
    {
      "cell_type": "code",
      "execution_count": null,
      "metadata": {
        "colab": {
          "base_uri": "https://localhost:8080/"
        },
        "id": "pzvOIoLrJtUS",
        "outputId": "22b93dcc-707a-4152-d55a-b5fc3bc4a98d"
      },
      "outputs": [
        {
          "name": "stdout",
          "output_type": "stream",
          "text": [
            "True\n"
          ]
        }
      ],
      "source": [
        "class Solution:\n",
        "    def isPalindrome(self, x: int) -> bool:\n",
        "        rev_num = 0\n",
        "        new_x = x\n",
        "\n",
        "        while new_x > 0:\n",
        "          rev_num = rev_num * 10 + new_x % 10\n",
        "\n",
        "          new_x = new_x // 10\n",
        "\n",
        "        return rev_num == x\n",
        "\n",
        "\n",
        "solution = Solution()\n",
        "\n",
        "x = 121\n",
        "solution = solution.isPalindrome(x)\n",
        "\n",
        "print(solution)"
      ]
    },
    {
      "cell_type": "markdown",
      "metadata": {
        "id": "t9E5XsKEmA2F"
      },
      "source": [
        "Leetcode 13"
      ]
    },
    {
      "cell_type": "code",
      "execution_count": 204,
      "metadata": {
        "colab": {
          "base_uri": "https://localhost:8080/"
        },
        "id": "S5iKVsjbd4C-",
        "outputId": "fd1c5376-7e29-4cda-b1b1-1a5a923e5688"
      },
      "outputs": [
        {
          "output_type": "stream",
          "name": "stdout",
          "text": [
            "8\n"
          ]
        }
      ],
      "source": [
        "class Solution:\n",
        "    def romanToInt(self, s: str) -> int:\n",
        "        sum = 0\n",
        "        numbers = {\n",
        "                   'I' : 1,\n",
        "                   'V' : 5,\n",
        "                   'X' : 10,\n",
        "                   'L' : 50,\n",
        "                   'C' : 100,\n",
        "                   'D' : 500,\n",
        "                   'M' : 1000}\n",
        "\n",
        "        for i in range(len(s)):\n",
        "          if i < len(s) - 1 and numbers[s[i]] < numbers[s[i+1]]:\n",
        "            sum -= numbers[s[i]]\n",
        "          else:\n",
        "            sum += numbers[s[i]]\n",
        "\n",
        "    # -1  + 5 -1 + 5\n",
        "        return sum\n",
        "\n",
        "solution = Solution()\n",
        "\n",
        "s = \"IVIV\"\n",
        "\n",
        "solution = solution.romanToInt(s)\n",
        "\n",
        "print(solution)"
      ]
    },
    {
      "cell_type": "markdown",
      "metadata": {
        "id": "86LmBAZa7eLU"
      },
      "source": [
        "Leetcode 14"
      ]
    },
    {
      "cell_type": "code",
      "execution_count": 2,
      "metadata": {
        "colab": {
          "base_uri": "https://localhost:8080/",
          "height": 332
        },
        "id": "QWVvDOMJn7Tu",
        "outputId": "d1d9714b-4868-41d0-f780-4cbf97a47d6b"
      },
      "outputs": [
        {
          "output_type": "error",
          "ename": "NameError",
          "evalue": "name 'List' is not defined",
          "traceback": [
            "\u001b[0;31m---------------------------------------------------------------------------\u001b[0m",
            "\u001b[0;31mNameError\u001b[0m                                 Traceback (most recent call last)",
            "\u001b[0;32m<ipython-input-2-d352d8efb6a2>\u001b[0m in \u001b[0;36m<cell line: 1>\u001b[0;34m()\u001b[0m\n\u001b[0;32m----> 1\u001b[0;31m \u001b[0;32mclass\u001b[0m \u001b[0mSolution\u001b[0m\u001b[0;34m:\u001b[0m\u001b[0;34m\u001b[0m\u001b[0;34m\u001b[0m\u001b[0m\n\u001b[0m\u001b[1;32m      2\u001b[0m     \u001b[0;32mdef\u001b[0m \u001b[0mlongestCommonPrefix\u001b[0m\u001b[0;34m(\u001b[0m\u001b[0mself\u001b[0m\u001b[0;34m,\u001b[0m \u001b[0mstrs\u001b[0m\u001b[0;34m:\u001b[0m \u001b[0mList\u001b[0m\u001b[0;34m[\u001b[0m\u001b[0mstr\u001b[0m\u001b[0;34m]\u001b[0m\u001b[0;34m)\u001b[0m \u001b[0;34m->\u001b[0m \u001b[0mstr\u001b[0m\u001b[0;34m:\u001b[0m\u001b[0;34m\u001b[0m\u001b[0;34m\u001b[0m\u001b[0m\n\u001b[1;32m      3\u001b[0m       \u001b[0mstrs\u001b[0m \u001b[0;34m=\u001b[0m \u001b[0msorted\u001b[0m\u001b[0;34m(\u001b[0m\u001b[0mstrs\u001b[0m\u001b[0;34m)\u001b[0m\u001b[0;34m\u001b[0m\u001b[0;34m\u001b[0m\u001b[0m\n\u001b[1;32m      4\u001b[0m       \u001b[0mresult\u001b[0m \u001b[0;34m=\u001b[0m \u001b[0;34m\"\"\u001b[0m\u001b[0;34m\u001b[0m\u001b[0;34m\u001b[0m\u001b[0m\n\u001b[1;32m      5\u001b[0m       \u001b[0mfirst\u001b[0m \u001b[0;34m=\u001b[0m \u001b[0mstrs\u001b[0m\u001b[0;34m[\u001b[0m\u001b[0;36m0\u001b[0m\u001b[0;34m]\u001b[0m\u001b[0;34m\u001b[0m\u001b[0;34m\u001b[0m\u001b[0m\n",
            "\u001b[0;32m<ipython-input-2-d352d8efb6a2>\u001b[0m in \u001b[0;36mSolution\u001b[0;34m()\u001b[0m\n\u001b[1;32m      1\u001b[0m \u001b[0;32mclass\u001b[0m \u001b[0mSolution\u001b[0m\u001b[0;34m:\u001b[0m\u001b[0;34m\u001b[0m\u001b[0;34m\u001b[0m\u001b[0m\n\u001b[0;32m----> 2\u001b[0;31m     \u001b[0;32mdef\u001b[0m \u001b[0mlongestCommonPrefix\u001b[0m\u001b[0;34m(\u001b[0m\u001b[0mself\u001b[0m\u001b[0;34m,\u001b[0m \u001b[0mstrs\u001b[0m\u001b[0;34m:\u001b[0m \u001b[0mList\u001b[0m\u001b[0;34m[\u001b[0m\u001b[0mstr\u001b[0m\u001b[0;34m]\u001b[0m\u001b[0;34m)\u001b[0m \u001b[0;34m->\u001b[0m \u001b[0mstr\u001b[0m\u001b[0;34m:\u001b[0m\u001b[0;34m\u001b[0m\u001b[0;34m\u001b[0m\u001b[0m\n\u001b[0m\u001b[1;32m      3\u001b[0m       \u001b[0mstrs\u001b[0m \u001b[0;34m=\u001b[0m \u001b[0msorted\u001b[0m\u001b[0;34m(\u001b[0m\u001b[0mstrs\u001b[0m\u001b[0;34m)\u001b[0m\u001b[0;34m\u001b[0m\u001b[0;34m\u001b[0m\u001b[0m\n\u001b[1;32m      4\u001b[0m       \u001b[0mresult\u001b[0m \u001b[0;34m=\u001b[0m \u001b[0;34m\"\"\u001b[0m\u001b[0;34m\u001b[0m\u001b[0;34m\u001b[0m\u001b[0m\n\u001b[1;32m      5\u001b[0m       \u001b[0mfirst\u001b[0m \u001b[0;34m=\u001b[0m \u001b[0mstrs\u001b[0m\u001b[0;34m[\u001b[0m\u001b[0;36m0\u001b[0m\u001b[0;34m]\u001b[0m\u001b[0;34m\u001b[0m\u001b[0;34m\u001b[0m\u001b[0m\n",
            "\u001b[0;31mNameError\u001b[0m: name 'List' is not defined"
          ]
        }
      ],
      "source": [
        "class Solution:\n",
        "    def longestCommonPrefix(self, strs: List[str]) -> str:\n",
        "      strs = sorted(strs)\n",
        "      result = \"\"\n",
        "      first = strs[0]\n",
        "      last = strs[-1]\n",
        "\n",
        "      # tutaj ustalam petle ktora powtorzy sie maxymalnie tyle razy ile wynosi po posortowaniu dlugosc pierwszego ciagu\n",
        "\n",
        "      # cala sztuczka polega na tym ze gdy posortuje wyrazy to bedzie mnie interesował tylko 1 i ostatni ciag bo przeciez te w srodku i tak musza zawierac to co 1 i ostatni\n",
        "\n",
        "      # potem porownuje literki i dodaje te ktore sa identyczne\n",
        "\n",
        "\n",
        "      for i in range(min(len(first),len(last))):\n",
        "        if(first[i]!=last[i]):\n",
        "          return result\n",
        "\n",
        "        result +=  first[i]\n",
        "      return result\n",
        "\n",
        "\n",
        "\n",
        "\n",
        "solution = Solution()\n",
        "\n",
        "strs = [\"flower\",\"flow\",\"flight\"]\n",
        "\n",
        "solution = solution.longestCommonPrefix(strs)\n",
        "print(solution)"
      ]
    },
    {
      "cell_type": "markdown",
      "metadata": {
        "id": "SfB0gEzzdQY7"
      },
      "source": [
        "26. Remove Duplicates from Sorted Array"
      ]
    },
    {
      "cell_type": "code",
      "execution_count": 251,
      "metadata": {
        "colab": {
          "base_uri": "https://localhost:8080/"
        },
        "id": "6PaTiviaNDAN",
        "outputId": "d525c5e7-5229-4d9d-e8c3-3895d93d437c"
      },
      "outputs": [
        {
          "output_type": "stream",
          "name": "stdout",
          "text": [
            "5, nums = [0, 1, 2, 3, 4, '_', '_', '_', '_', '_']\n"
          ]
        }
      ],
      "source": [
        "class Solution:\n",
        "    def removeDuplicates(self, nums: List[int]) -> int:\n",
        "\n",
        "      y_org = len(nums)\n",
        "      result = []\n",
        "      result_all = []\n",
        "      for i in range(len(nums)):\n",
        "        if i < len(nums) - 1 and nums[i] != nums[i+1]:\n",
        "\n",
        "          result.append(nums[i])\n",
        "          result.append(nums[i+1])\n",
        "\n",
        "      result_all.append(result[0])#dodaje 1 element bo jest zawsze unikatowy\n",
        "\n",
        "      for j in range(len(result)):\n",
        "        if j < len(result) - 1 and result[j] == result[j+1]:\n",
        "          result_all.append(result[j])\n",
        "\n",
        "      result_all.append(result[-1])# na koniec listy dodaje ostatni elelemnt bo tez jest zawsze unikatowy\n",
        "\n",
        "      y_new = len(result_all)\n",
        "\n",
        "      y_diff = y_org - y_new\n",
        "      for _ in range(y_diff):\n",
        "        result_all.append('_')\n",
        "\n",
        "      print(f'{y_new}, nums = {result_all}')\n",
        "solution = Solution()\n",
        "\n",
        "#nums = [1,1,2]\n",
        "nums = [0,0,1,1,1,2,2,3,3,4]\n",
        "\n",
        "solution = solution.removeDuplicates(nums)\n"
      ]
    },
    {
      "cell_type": "markdown",
      "source": [
        "lub do 26"
      ],
      "metadata": {
        "id": "Wvx_GmSB0ats"
      }
    },
    {
      "cell_type": "code",
      "execution_count": 239,
      "metadata": {
        "id": "grXA45rgddoy",
        "colab": {
          "base_uri": "https://localhost:8080/"
        },
        "outputId": "f0ce84c3-7603-4e32-aa1e-6aebd72e585f"
      },
      "outputs": [
        {
          "output_type": "stream",
          "name": "stdout",
          "text": [
            "5\n"
          ]
        }
      ],
      "source": [
        "class Solution:\n",
        "    def removeDuplicates(self, nums: List[int]) -> int:\n",
        "        j = 1\n",
        "        for i in range(1, len(nums)):\n",
        "            if nums[i] != nums[i - 1]:\n",
        "                nums[j] = nums[i]\n",
        "                j += 1\n",
        "        return j\n",
        "solution = Solution()\n",
        "\n",
        "#nums = [1,1,2]\n",
        "nums = [0,0,1,1,1,2,2,3,3,4]\n",
        "\n",
        "solution = solution.removeDuplicates(nums)\n",
        "print(solution)"
      ]
    },
    {
      "cell_type": "markdown",
      "source": [
        "28 TO MOJE DO POPRAWY NIZEJ DOBRE"
      ],
      "metadata": {
        "id": "mbJml1PD2VOK"
      }
    },
    {
      "cell_type": "code",
      "source": [
        "class Solution:\n",
        "    def strStr(self, haystack: str, needle: str) -> int:\n",
        "      #potrzebuje dlugosci zebym wiedział ile razy mam przejsc i co weryfikowac\n",
        "      index = 0\n",
        "      len_needle = len(needle)\n",
        "      index_help = 0\n",
        "      j = 0\n",
        "\n",
        "      #przechodze tyle razy ile mam wielokrotnosci tej swojej dlugosci do przejscia\n",
        "\n",
        "      # innymi slowy ile razy musze przejsc konkrentym wyrazeniem przez ten swoj ciag wejsciowy\n",
        "      for i in range(len(haystack) // len_needle):\n",
        "        #pdb.set_trace()\n",
        "\n",
        "        c = 0\n",
        "        while haystack[c] != needle[j]:\n",
        "          c +=1\n",
        "          index_help +=1\n",
        "          if c > len(haystack) - 1:\n",
        "            return -1\n",
        "        haystack = haystack[index_help:]\n",
        "\n",
        "        #sprawdzam pierwsze len_needle dlugosci ciagu wejsciowego\n",
        "        if haystack[:len_needle] == needle:\n",
        "          return index + index_help\n",
        "        else:\n",
        "          #jak nic nie znalazłem to sprawdzam kolejne\n",
        "          haystack = haystack[len_needle:]\n",
        "          # musze wskazac index wiec zwiekszam o tyle o ile przechodze\n",
        "          index = index+ len_needle + index_help\n",
        "      return -1\n",
        "\n",
        "solution = Solution()\n",
        "#haystack = \"sadbutsad\"\n",
        "#needle = \"sad\"\n",
        "#haystack = \"leetcode\"\n",
        "#needle = \"leeto\"\n",
        "#haystack = \"hello\"\n",
        "#needle = \"ll\"\n",
        "haystack =\"mississippi\"\n",
        "needle = \"issip\"\n",
        "#haystack =\"aaaaa\"\n",
        "#needle = \"bba\"\n",
        "solution = solution.strStr(haystack,needle)\n",
        "print(solution)"
      ],
      "metadata": {
        "colab": {
          "base_uri": "https://localhost:8080/"
        },
        "id": "q0gjcXjJzOC3",
        "outputId": "502b50f1-72e1-44c3-c488-87be58b9c0aa"
      },
      "execution_count": 329,
      "outputs": [
        {
          "output_type": "stream",
          "name": "stdout",
          "text": [
            "-1\n"
          ]
        }
      ]
    },
    {
      "cell_type": "markdown",
      "source": [
        "28 DOBRE"
      ],
      "metadata": {
        "id": "84nv3rNePz4z"
      }
    },
    {
      "cell_type": "code",
      "source": [
        "class Solution:\n",
        "    def strStr(self, haystack, needle):\n",
        "        for i in range(len(haystack) - len(needle) + 1):\n",
        "            print(haystack[i:i+len(needle)])\n",
        "\n",
        "            if haystack[i:i+len(needle)] == needle:\n",
        "                return i\n",
        "        return -1\n",
        "\n",
        "solution = Solution()\n",
        "haystack =\"mississippi\"#11\n",
        "needle = \"issip\"#5\n",
        "#haystack =\"aaaaa\"\n",
        "#needle = \"bba\"\n",
        "solution = solution.strStr(haystack,needle)\n",
        "print(solution)"
      ],
      "metadata": {
        "colab": {
          "base_uri": "https://localhost:8080/"
        },
        "id": "b7quTTMu21qt",
        "outputId": "35979e5b-add2-4f93-b544-6b2a9008a24d"
      },
      "execution_count": 333,
      "outputs": [
        {
          "output_type": "stream",
          "name": "stdout",
          "text": [
            "missi\n",
            "issis\n",
            "ssiss\n",
            "sissi\n",
            "issip\n",
            "4\n"
          ]
        }
      ]
    },
    {
      "cell_type": "code",
      "source": [
        "class Solution:\n",
        "    def searchInsert(self, nums: List[int], target: int) -> int:\n",
        "      index = 0\n",
        "      #pdb.set_trace()\n",
        "      for i in range(len(nums)):\n",
        "        if nums[i] < target:\n",
        "          index += 1\n",
        "      return index\n",
        "\n",
        "\n",
        "\n",
        "\n",
        "solution = Solution()\n",
        "nums = [1,3,5,6]\n",
        "target = 7\n",
        "\n",
        "solution = solution.searchInsert(nums,target)\n",
        "print(solution)"
      ],
      "metadata": {
        "colab": {
          "base_uri": "https://localhost:8080/"
        },
        "id": "rwW8aagDQrzf",
        "outputId": "362c59c8-4ba7-4f41-9dad-4f675dc7401e"
      },
      "execution_count": 24,
      "outputs": [
        {
          "output_type": "stream",
          "name": "stdout",
          "text": [
            "4\n"
          ]
        }
      ]
    },
    {
      "cell_type": "markdown",
      "source": [
        "58"
      ],
      "metadata": {
        "id": "xmtYQUczefDe"
      }
    },
    {
      "cell_type": "code",
      "source": [
        "class Solution:\n",
        "    def lengthOfLastWord(self, s: str) -> int:\n",
        "\n",
        "      x = -1\n",
        "      counter = 0\n",
        "      for i in range(len(s)):\n",
        "          #pdb.set_trace()\n",
        "          while s[x] == ' ':#finding word\n",
        "            x -=1\n",
        "          while s[x] != ' ':\n",
        "            x -=1\n",
        "            counter +=1\n",
        "            if abs(x+1) == len(s):\n",
        "              return counter\n",
        "          return counter\n",
        "\n",
        "\n",
        "\n",
        "solution = Solution()\n",
        "#s = \"luffy is still joyboy\"\n",
        "#s = \"Hello World\"\n",
        "#s = \"   fly me   to   the moon  \"\n",
        "#s = \"a\"\n",
        "solution = solution.lengthOfLastWord(s)\n",
        "print(solution)"
      ],
      "metadata": {
        "colab": {
          "base_uri": "https://localhost:8080/"
        },
        "id": "AV2ZG8DMXs8A",
        "outputId": "65f2405b-5aea-4f18-8932-b6d85a94c16b"
      },
      "execution_count": 93,
      "outputs": [
        {
          "output_type": "stream",
          "name": "stdout",
          "text": [
            "6\n"
          ]
        }
      ]
    },
    {
      "cell_type": "markdown",
      "source": [
        "66"
      ],
      "metadata": {
        "id": "kvEQDH4q4auO"
      }
    },
    {
      "cell_type": "code",
      "source": [
        "class Solution:\n",
        "    def plusOne(self, digits: List[int]) -> List[int]:\n",
        "\n",
        "      sum = 0\n",
        "      n = 10**(len(digits) -1)\n",
        "      counter = 0\n",
        "      counter_help = 0\n",
        "      result = []\n",
        "\n",
        "      if len(digits)==1 and digits[0] == 9:\n",
        "          return [1,0]\n",
        "\n",
        "      for i in range(len(digits)):\n",
        "        sum += digits[i] * n\n",
        "        n = n/10\n",
        "        counter +=1\n",
        "        if digits[i] ==9 and counter_help == 0:\n",
        "          counter_help +=1\n",
        "\n",
        "      sum += 1\n",
        "      sum = int(sum)\n",
        "\n",
        "      counter += counter_help\n",
        "\n",
        "      for i in range(counter):\n",
        "        mod = sum % 10\n",
        "        sum = sum // 10\n",
        "        result.append(mod)\n",
        "\n",
        "\n",
        "      first = 0\n",
        "      last = -1\n",
        "\n",
        "\n",
        "\n",
        "      for i in range(len(result)//2):\n",
        "        if result[first] == result[last]:\n",
        "          return result\n",
        "\n",
        "        help = result[first]\n",
        "        result[first] = result[last]\n",
        "\n",
        "        result[last] = help\n",
        "\n",
        "        last -=1\n",
        "        first +=1\n",
        "      return result\n",
        "\n",
        "\n",
        "\n",
        "\n",
        "\n",
        "\n",
        "\n",
        "\n",
        "\n",
        "\n",
        "solution = Solution()\n",
        "#digits = [1,2,3]\n",
        "#digits = [4,3,2,1]\n",
        "#digits = [9]\n",
        "#digits =[9,9]\n",
        "digits =[8,9,9,9]\n",
        "solution = solution.plusOne(digits)\n",
        "print(solution)"
      ],
      "metadata": {
        "colab": {
          "base_uri": "https://localhost:8080/"
        },
        "id": "bElHDdx6mRgm",
        "outputId": "4c86cbf4-1f4e-407b-95bf-de2fc635a4c7"
      },
      "execution_count": 150,
      "outputs": [
        {
          "output_type": "stream",
          "name": "stdout",
          "text": [
            "[0, 0, 0, 9, 0]\n"
          ]
        }
      ]
    },
    {
      "cell_type": "code",
      "source": [],
      "metadata": {
        "id": "WSHP0Aw77oNR"
      },
      "execution_count": null,
      "outputs": []
    }
  ],
  "metadata": {
    "colab": {
      "provenance": [],
      "authorship_tag": "ABX9TyOsoXmefJHiyq6+c8JOOFW6",
      "include_colab_link": true
    },
    "kernelspec": {
      "display_name": "Python 3",
      "name": "python3"
    },
    "language_info": {
      "name": "python"
    }
  },
  "nbformat": 4,
  "nbformat_minor": 0
}