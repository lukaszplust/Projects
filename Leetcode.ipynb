{
  "cells": [
    {
      "cell_type": "markdown",
      "metadata": {
        "id": "view-in-github",
        "colab_type": "text"
      },
      "source": [
        "<a href=\"https://colab.research.google.com/github/lukaszplust/Projects/blob/main/Leetcode.ipynb\" target=\"_parent\"><img src=\"https://colab.research.google.com/assets/colab-badge.svg\" alt=\"Open In Colab\"/></a>"
      ]
    },
    {
      "cell_type": "code",
      "source": [
        "from typing import List\n",
        "import pdb\n",
        "from typing import Optional"
      ],
      "metadata": {
        "id": "cx0bs2ssX2e1"
      },
      "execution_count": null,
      "outputs": []
    },
    {
      "cell_type": "markdown",
      "metadata": {
        "id": "_kHcTfTCJh5f"
      },
      "source": [
        "Leetcode 1"
      ]
    },
    {
      "cell_type": "code",
      "execution_count": null,
      "metadata": {
        "colab": {
          "base_uri": "https://localhost:8080/"
        },
        "id": "92qjp1axJhgQ",
        "outputId": "d7ea536f-d5c4-44fc-9391-efaf896c3b9b"
      },
      "outputs": [
        {
          "name": "stdout",
          "output_type": "stream",
          "text": [
            "[0, 1]\n"
          ]
        }
      ],
      "source": [
        "from typing import List\n",
        "import pdb\n",
        "class Solution:\n",
        "    def twoSum(self, nums: List[int], target: int) -> List[int]:\n",
        "        #pdb.set_trace()\n",
        "\n",
        "        n = len(nums)\n",
        "\n",
        "        for i in range(n-1):\n",
        "          for j in range(i+1, n):\n",
        "            if nums[i] + nums[j] == target:\n",
        "              return [i,j]\n",
        "        return []\n",
        "\n",
        "solution = Solution()\n",
        "\n",
        "#nums = [3,2,4]\n",
        "#target = 6\n",
        "nums = [2,7,11,15]\n",
        "target = 9\n",
        "result = solution.twoSum(nums, target)\n",
        "\n",
        "# Wyświetlamy wynik\n",
        "print(result)"
      ]
    },
    {
      "cell_type": "markdown",
      "metadata": {
        "id": "O0wEB8o3drMO"
      },
      "source": [
        "Leetcode 9"
      ]
    },
    {
      "cell_type": "code",
      "execution_count": null,
      "metadata": {
        "colab": {
          "base_uri": "https://localhost:8080/"
        },
        "id": "pzvOIoLrJtUS",
        "outputId": "22b93dcc-707a-4152-d55a-b5fc3bc4a98d"
      },
      "outputs": [
        {
          "name": "stdout",
          "output_type": "stream",
          "text": [
            "True\n"
          ]
        }
      ],
      "source": [
        "class Solution:\n",
        "    def isPalindrome(self, x: int) -> bool:\n",
        "        rev_num = 0\n",
        "        new_x = x\n",
        "\n",
        "        while new_x > 0:\n",
        "          rev_num = rev_num * 10 + new_x % 10\n",
        "\n",
        "          new_x = new_x // 10\n",
        "\n",
        "        return rev_num == x\n",
        "\n",
        "\n",
        "solution = Solution()\n",
        "\n",
        "x = 121\n",
        "solution = solution.isPalindrome(x)\n",
        "\n",
        "print(solution)"
      ]
    },
    {
      "cell_type": "markdown",
      "metadata": {
        "id": "t9E5XsKEmA2F"
      },
      "source": [
        "Leetcode 13"
      ]
    },
    {
      "cell_type": "code",
      "execution_count": null,
      "metadata": {
        "colab": {
          "base_uri": "https://localhost:8080/"
        },
        "id": "S5iKVsjbd4C-",
        "outputId": "fd1c5376-7e29-4cda-b1b1-1a5a923e5688"
      },
      "outputs": [
        {
          "output_type": "stream",
          "name": "stdout",
          "text": [
            "8\n"
          ]
        }
      ],
      "source": [
        "class Solution:\n",
        "    def romanToInt(self, s: str) -> int:\n",
        "        sum = 0\n",
        "        numbers = {\n",
        "                   'I' : 1,\n",
        "                   'V' : 5,\n",
        "                   'X' : 10,\n",
        "                   'L' : 50,\n",
        "                   'C' : 100,\n",
        "                   'D' : 500,\n",
        "                   'M' : 1000}\n",
        "\n",
        "        for i in range(len(s)):\n",
        "          if i < len(s) - 1 and numbers[s[i]] < numbers[s[i+1]]:\n",
        "            sum -= numbers[s[i]]\n",
        "          else:\n",
        "            sum += numbers[s[i]]\n",
        "\n",
        "    # -1  + 5 -1 + 5\n",
        "        return sum\n",
        "\n",
        "solution = Solution()\n",
        "\n",
        "s = \"IVIV\"\n",
        "\n",
        "solution = solution.romanToInt(s)\n",
        "\n",
        "print(solution)"
      ]
    },
    {
      "cell_type": "markdown",
      "metadata": {
        "id": "86LmBAZa7eLU"
      },
      "source": [
        "Leetcode 14"
      ]
    },
    {
      "cell_type": "code",
      "execution_count": null,
      "metadata": {
        "colab": {
          "base_uri": "https://localhost:8080/",
          "height": 332
        },
        "id": "QWVvDOMJn7Tu",
        "outputId": "d1d9714b-4868-41d0-f780-4cbf97a47d6b"
      },
      "outputs": [
        {
          "output_type": "error",
          "ename": "NameError",
          "evalue": "name 'List' is not defined",
          "traceback": [
            "\u001b[0;31m---------------------------------------------------------------------------\u001b[0m",
            "\u001b[0;31mNameError\u001b[0m                                 Traceback (most recent call last)",
            "\u001b[0;32m<ipython-input-2-d352d8efb6a2>\u001b[0m in \u001b[0;36m<cell line: 1>\u001b[0;34m()\u001b[0m\n\u001b[0;32m----> 1\u001b[0;31m \u001b[0;32mclass\u001b[0m \u001b[0mSolution\u001b[0m\u001b[0;34m:\u001b[0m\u001b[0;34m\u001b[0m\u001b[0;34m\u001b[0m\u001b[0m\n\u001b[0m\u001b[1;32m      2\u001b[0m     \u001b[0;32mdef\u001b[0m \u001b[0mlongestCommonPrefix\u001b[0m\u001b[0;34m(\u001b[0m\u001b[0mself\u001b[0m\u001b[0;34m,\u001b[0m \u001b[0mstrs\u001b[0m\u001b[0;34m:\u001b[0m \u001b[0mList\u001b[0m\u001b[0;34m[\u001b[0m\u001b[0mstr\u001b[0m\u001b[0;34m]\u001b[0m\u001b[0;34m)\u001b[0m \u001b[0;34m->\u001b[0m \u001b[0mstr\u001b[0m\u001b[0;34m:\u001b[0m\u001b[0;34m\u001b[0m\u001b[0;34m\u001b[0m\u001b[0m\n\u001b[1;32m      3\u001b[0m       \u001b[0mstrs\u001b[0m \u001b[0;34m=\u001b[0m \u001b[0msorted\u001b[0m\u001b[0;34m(\u001b[0m\u001b[0mstrs\u001b[0m\u001b[0;34m)\u001b[0m\u001b[0;34m\u001b[0m\u001b[0;34m\u001b[0m\u001b[0m\n\u001b[1;32m      4\u001b[0m       \u001b[0mresult\u001b[0m \u001b[0;34m=\u001b[0m \u001b[0;34m\"\"\u001b[0m\u001b[0;34m\u001b[0m\u001b[0;34m\u001b[0m\u001b[0m\n\u001b[1;32m      5\u001b[0m       \u001b[0mfirst\u001b[0m \u001b[0;34m=\u001b[0m \u001b[0mstrs\u001b[0m\u001b[0;34m[\u001b[0m\u001b[0;36m0\u001b[0m\u001b[0;34m]\u001b[0m\u001b[0;34m\u001b[0m\u001b[0;34m\u001b[0m\u001b[0m\n",
            "\u001b[0;32m<ipython-input-2-d352d8efb6a2>\u001b[0m in \u001b[0;36mSolution\u001b[0;34m()\u001b[0m\n\u001b[1;32m      1\u001b[0m \u001b[0;32mclass\u001b[0m \u001b[0mSolution\u001b[0m\u001b[0;34m:\u001b[0m\u001b[0;34m\u001b[0m\u001b[0;34m\u001b[0m\u001b[0m\n\u001b[0;32m----> 2\u001b[0;31m     \u001b[0;32mdef\u001b[0m \u001b[0mlongestCommonPrefix\u001b[0m\u001b[0;34m(\u001b[0m\u001b[0mself\u001b[0m\u001b[0;34m,\u001b[0m \u001b[0mstrs\u001b[0m\u001b[0;34m:\u001b[0m \u001b[0mList\u001b[0m\u001b[0;34m[\u001b[0m\u001b[0mstr\u001b[0m\u001b[0;34m]\u001b[0m\u001b[0;34m)\u001b[0m \u001b[0;34m->\u001b[0m \u001b[0mstr\u001b[0m\u001b[0;34m:\u001b[0m\u001b[0;34m\u001b[0m\u001b[0;34m\u001b[0m\u001b[0m\n\u001b[0m\u001b[1;32m      3\u001b[0m       \u001b[0mstrs\u001b[0m \u001b[0;34m=\u001b[0m \u001b[0msorted\u001b[0m\u001b[0;34m(\u001b[0m\u001b[0mstrs\u001b[0m\u001b[0;34m)\u001b[0m\u001b[0;34m\u001b[0m\u001b[0;34m\u001b[0m\u001b[0m\n\u001b[1;32m      4\u001b[0m       \u001b[0mresult\u001b[0m \u001b[0;34m=\u001b[0m \u001b[0;34m\"\"\u001b[0m\u001b[0;34m\u001b[0m\u001b[0;34m\u001b[0m\u001b[0m\n\u001b[1;32m      5\u001b[0m       \u001b[0mfirst\u001b[0m \u001b[0;34m=\u001b[0m \u001b[0mstrs\u001b[0m\u001b[0;34m[\u001b[0m\u001b[0;36m0\u001b[0m\u001b[0;34m]\u001b[0m\u001b[0;34m\u001b[0m\u001b[0;34m\u001b[0m\u001b[0m\n",
            "\u001b[0;31mNameError\u001b[0m: name 'List' is not defined"
          ]
        }
      ],
      "source": [
        "class Solution:\n",
        "    def longestCommonPrefix(self, strs: List[str]) -> str:\n",
        "      strs = sorted(strs)\n",
        "      result = \"\"\n",
        "      first = strs[0]\n",
        "      last = strs[-1]\n",
        "\n",
        "      # tutaj ustalam petle ktora powtorzy sie maxymalnie tyle razy ile wynosi po posortowaniu dlugosc pierwszego ciagu\n",
        "\n",
        "      # cala sztuczka polega na tym ze gdy posortuje wyrazy to bedzie mnie interesował tylko 1 i ostatni ciag bo przeciez te w srodku i tak musza zawierac to co 1 i ostatni\n",
        "\n",
        "      # potem porownuje literki i dodaje te ktore sa identyczne\n",
        "\n",
        "\n",
        "      for i in range(min(len(first),len(last))):\n",
        "        if(first[i]!=last[i]):\n",
        "          return result\n",
        "\n",
        "        result +=  first[i]\n",
        "      return result\n",
        "\n",
        "\n",
        "\n",
        "\n",
        "solution = Solution()\n",
        "\n",
        "strs = [\"flower\",\"flow\",\"flight\"]\n",
        "\n",
        "solution = solution.longestCommonPrefix(strs)\n",
        "print(solution)"
      ]
    },
    {
      "cell_type": "markdown",
      "metadata": {
        "id": "SfB0gEzzdQY7"
      },
      "source": [
        "26. Remove Duplicates from Sorted Array"
      ]
    },
    {
      "cell_type": "code",
      "execution_count": null,
      "metadata": {
        "colab": {
          "base_uri": "https://localhost:8080/"
        },
        "id": "6PaTiviaNDAN",
        "outputId": "d525c5e7-5229-4d9d-e8c3-3895d93d437c"
      },
      "outputs": [
        {
          "output_type": "stream",
          "name": "stdout",
          "text": [
            "5, nums = [0, 1, 2, 3, 4, '_', '_', '_', '_', '_']\n"
          ]
        }
      ],
      "source": [
        "class Solution:\n",
        "    def removeDuplicates(self, nums: List[int]) -> int:\n",
        "\n",
        "      y_org = len(nums)\n",
        "      result = []\n",
        "      result_all = []\n",
        "      for i in range(len(nums)):\n",
        "        if i < len(nums) - 1 and nums[i] != nums[i+1]:\n",
        "\n",
        "          result.append(nums[i])\n",
        "          result.append(nums[i+1])\n",
        "\n",
        "      result_all.append(result[0])#dodaje 1 element bo jest zawsze unikatowy\n",
        "\n",
        "      for j in range(len(result)):\n",
        "        if j < len(result) - 1 and result[j] == result[j+1]:\n",
        "          result_all.append(result[j])\n",
        "\n",
        "      result_all.append(result[-1])# na koniec listy dodaje ostatni elelemnt bo tez jest zawsze unikatowy\n",
        "\n",
        "      y_new = len(result_all)\n",
        "\n",
        "      y_diff = y_org - y_new\n",
        "      for _ in range(y_diff):\n",
        "        result_all.append('_')\n",
        "\n",
        "      print(f'{y_new}, nums = {result_all}')\n",
        "solution = Solution()\n",
        "\n",
        "#nums = [1,1,2]\n",
        "nums = [0,0,1,1,1,2,2,3,3,4]\n",
        "\n",
        "solution = solution.removeDuplicates(nums)\n"
      ]
    },
    {
      "cell_type": "markdown",
      "source": [
        "lub do 26"
      ],
      "metadata": {
        "id": "Wvx_GmSB0ats"
      }
    },
    {
      "cell_type": "code",
      "execution_count": null,
      "metadata": {
        "id": "grXA45rgddoy",
        "colab": {
          "base_uri": "https://localhost:8080/"
        },
        "outputId": "f0ce84c3-7603-4e32-aa1e-6aebd72e585f"
      },
      "outputs": [
        {
          "output_type": "stream",
          "name": "stdout",
          "text": [
            "5\n"
          ]
        }
      ],
      "source": [
        "class Solution:\n",
        "    def removeDuplicates(self, nums: List[int]) -> int:\n",
        "        j = 1\n",
        "        for i in range(1, len(nums)):\n",
        "            if nums[i] != nums[i - 1]:\n",
        "                nums[j] = nums[i]\n",
        "                j += 1\n",
        "        return j\n",
        "solution = Solution()\n",
        "\n",
        "#nums = [1,1,2]\n",
        "nums = [0,0,1,1,1,2,2,3,3,4]\n",
        "\n",
        "solution = solution.removeDuplicates(nums)\n",
        "print(solution)"
      ]
    },
    {
      "cell_type": "markdown",
      "source": [
        "28 TO MOJE DO POPRAWY NIZEJ DOBRE"
      ],
      "metadata": {
        "id": "mbJml1PD2VOK"
      }
    },
    {
      "cell_type": "code",
      "source": [
        "class Solution:\n",
        "    def strStr(self, haystack: str, needle: str) -> int:\n",
        "      #potrzebuje dlugosci zebym wiedział ile razy mam przejsc i co weryfikowac\n",
        "      index = 0\n",
        "      len_needle = len(needle)\n",
        "      index_help = 0\n",
        "      j = 0\n",
        "\n",
        "      #przechodze tyle razy ile mam wielokrotnosci tej swojej dlugosci do przejscia\n",
        "\n",
        "      # innymi slowy ile razy musze przejsc konkrentym wyrazeniem przez ten swoj ciag wejsciowy\n",
        "      for i in range(len(haystack) // len_needle):\n",
        "        #pdb.set_trace()\n",
        "\n",
        "        c = 0\n",
        "        while haystack[c] != needle[j]:\n",
        "          c +=1\n",
        "          index_help +=1\n",
        "          if c > len(haystack) - 1:\n",
        "            return -1\n",
        "        haystack = haystack[index_help:]\n",
        "\n",
        "        #sprawdzam pierwsze len_needle dlugosci ciagu wejsciowego\n",
        "        if haystack[:len_needle] == needle:\n",
        "          return index + index_help\n",
        "        else:\n",
        "          #jak nic nie znalazłem to sprawdzam kolejne\n",
        "          haystack = haystack[len_needle:]\n",
        "          # musze wskazac index wiec zwiekszam o tyle o ile przechodze\n",
        "          index = index+ len_needle + index_help\n",
        "      return -1\n",
        "\n",
        "solution = Solution()\n",
        "#haystack = \"sadbutsad\"\n",
        "#needle = \"sad\"\n",
        "#haystack = \"leetcode\"\n",
        "#needle = \"leeto\"\n",
        "#haystack = \"hello\"\n",
        "#needle = \"ll\"\n",
        "haystack =\"mississippi\"\n",
        "needle = \"issip\"\n",
        "#haystack =\"aaaaa\"\n",
        "#needle = \"bba\"\n",
        "solution = solution.strStr(haystack,needle)\n",
        "print(solution)"
      ],
      "metadata": {
        "colab": {
          "base_uri": "https://localhost:8080/"
        },
        "id": "q0gjcXjJzOC3",
        "outputId": "502b50f1-72e1-44c3-c488-87be58b9c0aa"
      },
      "execution_count": null,
      "outputs": [
        {
          "output_type": "stream",
          "name": "stdout",
          "text": [
            "-1\n"
          ]
        }
      ]
    },
    {
      "cell_type": "markdown",
      "source": [
        "28 DOBRE"
      ],
      "metadata": {
        "id": "84nv3rNePz4z"
      }
    },
    {
      "cell_type": "code",
      "source": [
        "class Solution:\n",
        "    def strStr(self, haystack, needle):\n",
        "        for i in range(len(haystack) - len(needle) + 1):\n",
        "            print(haystack[i:i+len(needle)])\n",
        "\n",
        "            if haystack[i:i+len(needle)] == needle:\n",
        "                return i\n",
        "        return -1\n",
        "\n",
        "solution = Solution()\n",
        "haystack =\"mississippi\"#11\n",
        "needle = \"issip\"#5\n",
        "#haystack =\"aaaaa\"\n",
        "#needle = \"bba\"\n",
        "solution = solution.strStr(haystack,needle)\n",
        "print(solution)"
      ],
      "metadata": {
        "colab": {
          "base_uri": "https://localhost:8080/"
        },
        "id": "b7quTTMu21qt",
        "outputId": "35979e5b-add2-4f93-b544-6b2a9008a24d"
      },
      "execution_count": null,
      "outputs": [
        {
          "output_type": "stream",
          "name": "stdout",
          "text": [
            "missi\n",
            "issis\n",
            "ssiss\n",
            "sissi\n",
            "issip\n",
            "4\n"
          ]
        }
      ]
    },
    {
      "cell_type": "code",
      "source": [
        "class Solution:\n",
        "    def searchInsert(self, nums: List[int], target: int) -> int:\n",
        "      index = 0\n",
        "      #pdb.set_trace()\n",
        "      for i in range(len(nums)):\n",
        "        if nums[i] < target:\n",
        "          index += 1\n",
        "      return index\n",
        "\n",
        "\n",
        "\n",
        "\n",
        "solution = Solution()\n",
        "nums = [1,3,5,6]\n",
        "target = 7\n",
        "\n",
        "solution = solution.searchInsert(nums,target)\n",
        "print(solution)"
      ],
      "metadata": {
        "colab": {
          "base_uri": "https://localhost:8080/"
        },
        "id": "rwW8aagDQrzf",
        "outputId": "362c59c8-4ba7-4f41-9dad-4f675dc7401e"
      },
      "execution_count": null,
      "outputs": [
        {
          "output_type": "stream",
          "name": "stdout",
          "text": [
            "4\n"
          ]
        }
      ]
    },
    {
      "cell_type": "markdown",
      "source": [
        "58"
      ],
      "metadata": {
        "id": "xmtYQUczefDe"
      }
    },
    {
      "cell_type": "code",
      "source": [
        "class Solution:\n",
        "    def lengthOfLastWord(self, s: str) -> int:\n",
        "\n",
        "      x = -1\n",
        "      counter = 0\n",
        "      for i in range(len(s)):\n",
        "          #pdb.set_trace()\n",
        "          while s[x] == ' ':#finding word\n",
        "            x -=1\n",
        "          while s[x] != ' ':\n",
        "            x -=1\n",
        "            counter +=1\n",
        "            if abs(x+1) == len(s):\n",
        "              return counter\n",
        "          return counter\n",
        "\n",
        "\n",
        "\n",
        "solution = Solution()\n",
        "#s = \"luffy is still joyboy\"\n",
        "#s = \"Hello World\"\n",
        "#s = \"   fly me   to   the moon  \"\n",
        "#s = \"a\"\n",
        "solution = solution.lengthOfLastWord(s)\n",
        "print(solution)"
      ],
      "metadata": {
        "colab": {
          "base_uri": "https://localhost:8080/"
        },
        "id": "AV2ZG8DMXs8A",
        "outputId": "65f2405b-5aea-4f18-8932-b6d85a94c16b"
      },
      "execution_count": null,
      "outputs": [
        {
          "output_type": "stream",
          "name": "stdout",
          "text": [
            "6\n"
          ]
        }
      ]
    },
    {
      "cell_type": "markdown",
      "source": [
        "66"
      ],
      "metadata": {
        "id": "kvEQDH4q4auO"
      }
    },
    {
      "cell_type": "code",
      "source": [
        "class Solution:\n",
        "    def plusOne(self, digits: List[int]) -> List[int]:\n",
        "\n",
        "      sum = 0\n",
        "      n = 10**(len(digits) -1)\n",
        "      counter = 0\n",
        "      counter_help = 0\n",
        "      result = []\n",
        "\n",
        "      if len(digits)==1 and digits[0] == 9:\n",
        "          return [1,0]\n",
        "\n",
        "\n",
        "\n",
        "      for i in range(len(digits)):\n",
        "        sum += digits[i] * n\n",
        "        n = n/10\n",
        "        counter +=1\n",
        "        if digits[i] ==9 and counter_help == 0:\n",
        "          counter_help +=1\n",
        "\n",
        "      sum += 1\n",
        "      sum = int(sum)\n",
        "      print(sum)\n",
        "      counter += counter_help\n",
        "\n",
        "      for i in range(counter):\n",
        "        mod = sum % 10\n",
        "        sum = sum // 10\n",
        "        result.append(mod)\n",
        "\n",
        "      #print(result)\n",
        "      first = 0\n",
        "      last = -1\n",
        "\n",
        "\n",
        "\n",
        "      for i in range(len(result)//2):\n",
        "        if result[first] == result[last]:\n",
        "          return result\n",
        "\n",
        "        help = result[first]\n",
        "        result[first] = result[last]\n",
        "\n",
        "        result[last] = help\n",
        "\n",
        "        last -=1\n",
        "        first +=1\n",
        "      return result\n",
        "\n",
        "\n",
        "\n",
        "\n",
        "\n",
        "\n",
        "\n",
        "\n",
        "\n",
        "\n",
        "solution = Solution()\n",
        "#digits = [1,2,3]\n",
        "#digits = [4,3,2,1]\n",
        "#digits = [9]\n",
        "#digits =[9,9]\n",
        "digits =[8,9,9,9]\n",
        "solution = solution.plusOne(digits)\n",
        "print(solution)"
      ],
      "metadata": {
        "colab": {
          "base_uri": "https://localhost:8080/"
        },
        "id": "bElHDdx6mRgm",
        "outputId": "2e40cd89-88ee-4cc4-ff8b-b8e055172039"
      },
      "execution_count": null,
      "outputs": [
        {
          "output_type": "stream",
          "name": "stdout",
          "text": [
            "9000\n",
            "[0, 0, 0, 9, 0]\n"
          ]
        }
      ]
    },
    {
      "cell_type": "code",
      "source": [
        "class Solution:\n",
        "    def plusOne(self, digits: List[int]) -> List[int]:\n",
        "        for i in reversed(range(len(digits))):\n",
        "            print(i)\n",
        "            if digits[i] != 9:# sprawdzam czy ostatni element jest 9\n",
        "                digits[i] += 1# jesli nie jest to dodaje to (PLUS JEDEN)\n",
        "                return digits# i zwaracam cały ciag\n",
        "            digits[i] = 0# jesli to 9 to zamieniam to na 0 (cos jak dodawanie pisemne gdy jest overflow przez 9(dziewiatke))\n",
        "\n",
        "        return [1] + digits#to przypadek jak sa same 9 i musze dodac 1 przed bo beda same 0\n",
        "\n",
        "\n",
        "solution = Solution()\n",
        "#digits = [1,2,3]\n",
        "#digits = [4,3,2,1]\n",
        "#digits = [9]\n",
        "#digits =[9,9]\n",
        "digits =[8,9,9,9]\n",
        "solution = solution.plusOne(digits)\n",
        "print(solution)"
      ],
      "metadata": {
        "colab": {
          "base_uri": "https://localhost:8080/"
        },
        "id": "WSHP0Aw77oNR",
        "outputId": "600f8182-3e23-4f2b-c2eb-9cd47aad4871"
      },
      "execution_count": null,
      "outputs": [
        {
          "output_type": "stream",
          "name": "stdout",
          "text": [
            "3\n",
            "2\n",
            "1\n",
            "0\n",
            "[9, 0, 0, 0]\n"
          ]
        }
      ]
    },
    {
      "cell_type": "markdown",
      "source": [
        "67 DOKONCZYC"
      ],
      "metadata": {
        "id": "deP9NvDHVZXV"
      }
    },
    {
      "cell_type": "code",
      "source": [
        "class Solution:\n",
        "    def addBinary(self, a: str, b: str) -> str:\n",
        "      result = []\n",
        "      cf = 0\n",
        "      x =1\n",
        "      #pdb.set_trace()\n",
        "      for i in range(max(len(a), len(b))):\n",
        "\n",
        "        if a[-x] == '1' and b[-x] == '1' and cf==1:\n",
        "          cf = 1\n",
        "          result.append(1)\n",
        "        elif a[-x] == '1' and b[-x] == '1':\n",
        "          cf = 1\n",
        "          result.append(0)\n",
        "        elif cf==1 and a[-x] == '0' and b[-x] == '0':\n",
        "          result.append(1)\n",
        "        else:\n",
        "          result.append(0)\n",
        "        x +=1\n",
        "      return result\n",
        "\n",
        "\n",
        "solution = Solution()\n",
        "a = \"1010\"\n",
        "b = \"1011\"\n",
        "\n",
        "solution = solution.addBinary(a,b)\n",
        "print(solution)"
      ],
      "metadata": {
        "colab": {
          "base_uri": "https://localhost:8080/"
        },
        "id": "I0hHPMKkUVec",
        "outputId": "9640e876-5d13-4420-cde7-eff830c5c0c1"
      },
      "execution_count": null,
      "outputs": [
        {
          "output_type": "stream",
          "name": "stdout",
          "text": [
            "[0, 0, 1, 1]\n"
          ]
        }
      ]
    },
    {
      "cell_type": "markdown",
      "source": [
        "69"
      ],
      "metadata": {
        "id": "s1SKZOEydb-m"
      }
    },
    {
      "cell_type": "code",
      "source": [
        "class Solution:\n",
        "    def mySqrt(self, x: int) -> int:\n",
        "        left = 0\n",
        "        right = x\n",
        "        while left <= right:\n",
        "          mid = (left + right) //2\n",
        "\n",
        "          if mid * mid < x:\n",
        "            left = mid + 1\n",
        "            print(left)\n",
        "          elif mid * mid > x:\n",
        "            right = mid -1\n",
        "          else:\n",
        "            return mid\n",
        "        return right\n",
        "\n",
        "\n",
        "solution = Solution()\n",
        "x = 13\n",
        "\n",
        "solution = solution.mySqrt(x)\n",
        "print(solution)"
      ],
      "metadata": {
        "colab": {
          "base_uri": "https://localhost:8080/"
        },
        "id": "gEqPfhKSWwSj",
        "outputId": "402cdb79-7b3a-4128-b244-d34d4e7cd1bb"
      },
      "execution_count": null,
      "outputs": [
        {
          "output_type": "stream",
          "name": "stdout",
          "text": [
            "3\n",
            "4\n",
            "3\n"
          ]
        }
      ]
    },
    {
      "cell_type": "markdown",
      "source": [
        "21"
      ],
      "metadata": {
        "id": "RQiLLY18QkCk"
      }
    },
    {
      "cell_type": "code",
      "source": [
        "from typing import Optional"
      ],
      "metadata": {
        "id": "LW_Q1qVygijA"
      },
      "execution_count": null,
      "outputs": []
    },
    {
      "cell_type": "code",
      "source": [
        "# Definition for singly-linked list.\n",
        "class ListNode:\n",
        "     def __init__(self, val=0, next=None):\n",
        "         self.val = val\n",
        "         self.next = next\n",
        "class Solution:\n",
        "    def mergeTwoLists(self, list1: Optional[ListNode], list2: Optional[ListNode]) -> Optional[ListNode]:\n",
        "      head = ListNode()\n",
        "      curr = head\n",
        "\n",
        "      while list1 and list2:\n",
        "        if list1.val < list2.val:\n",
        "          curr.next = list1# musze headem wejsc w ten konkretny element\n",
        "          curr = list1 # skoro poruszam sie na podstawie curr to musze go zaktualizowac\n",
        "          list1 = list1.next# przesuwam wskaznik na kolejny element list\n",
        "        else:\n",
        "          curr.next = list2# musze headem wejsc w ten konkretny element\n",
        "          curr = list2 # skoro poruszam sie na podstawie curr to musze go zaktualizowac\n",
        "          list2 = list2.next# przesuwam wskaznik na kolejny element listy\n",
        "\n",
        "      curr.next = list1 if list1 else list2 # zwracam te elementy ktore pozostały\n",
        "      return head.next\n",
        "\n",
        "# TO DODATKI\n",
        "# Helper function to convert a list to a linked list\n",
        "def to_linked_list(lst):\n",
        "    dummy = ListNode()\n",
        "    curr = dummy\n",
        "    for val in lst:\n",
        "        curr.next = ListNode(val)\n",
        "        curr = curr.next\n",
        "    return dummy.next\n",
        "\n",
        "# Helper function to print linked list\n",
        "def print_linked_list(node):\n",
        "    while node:\n",
        "        print(node.val, end=\" -> \")\n",
        "        node = node.next\n",
        "    print(\"None\")\n",
        "\n",
        "solution = Solution()\n",
        "\n",
        "list1 = [1, 2, 4]\n",
        "list2 = [1, 3, 4]\n",
        "\n",
        "linked_list1 = to_linked_list(list1)\n",
        "linked_list2 = to_linked_list(list2)\n",
        "\n",
        "merged_list = solution.mergeTwoLists(linked_list1, linked_list2)\n",
        "print_linked_list(merged_list)"
      ],
      "metadata": {
        "id": "aYNQKWJERYI0",
        "colab": {
          "base_uri": "https://localhost:8080/"
        },
        "outputId": "bdb4d04a-415e-4baa-8aed-d57211cf4da9"
      },
      "execution_count": null,
      "outputs": [
        {
          "output_type": "stream",
          "name": "stdout",
          "text": [
            "1 -> 1 -> 2 -> 3 -> 4 -> 4 -> None\n"
          ]
        }
      ]
    },
    {
      "cell_type": "markdown",
      "source": [
        "83. Remove Duplicates from Sorted List"
      ],
      "metadata": {
        "id": "ouHOWro1ebCj"
      }
    },
    {
      "cell_type": "code",
      "source": [
        "# Definition for singly-linked list.\n",
        "# class ListNode:\n",
        "#     def __init__(self, val=0, next=None):\n",
        "#         self.val = val\n",
        "#         self.next = next\n",
        "class Solution:\n",
        "    def deleteDuplicates(self, head: Optional[ListNode]) -> Optional[ListNode]:\n",
        "        curr = head\n",
        "        # dopoki cos jest w tej liscie\n",
        "        while curr and curr.next:\n",
        "            # porownuje ze soba kolejne elementy\n",
        "            if curr.val == curr.next.val:\n",
        "                # jesli byly takie same to przeskakuje na kolejny\n",
        "                curr.next = curr.next.next\n",
        "            else:\n",
        "                curr = curr.next\n",
        "        return head"
      ],
      "metadata": {
        "id": "CX3p4HS7gjFE"
      },
      "execution_count": null,
      "outputs": []
    },
    {
      "cell_type": "code",
      "source": [
        "import pdb\n",
        "class Solution:\n",
        "    def merge(self, nums1: List[int], m: int, nums2: List[int], n: int) -> None:\n",
        "        \"\"\"\n",
        "        Do not return anything, modify nums1 in-place instead.\n",
        "        \"\"\"\n",
        "        i = m - 1 # wskaznik cyfry w nums1\n",
        "        j = n - 1 # wskaznik cyfry w nums2\n",
        "        k = m + n - 1\n",
        "\n",
        "        while j >= 0: # jezeli jeszcze istnieja jakies nums2\n",
        "\n",
        "            # weryfikuje ostatnie cyfry\n",
        "            if i >= 0 and nums1[i] > nums2[j]:\n",
        "                nums1[k] = nums1[i]\n",
        "                i -= 1\n",
        "            # jezeli to w 2 jest maksymalna to ja wypisuje\n",
        "            else:\n",
        "                nums1[k] = nums2[j]\n",
        "                #pozbyłem sie tej liczby z nums2 wiec przesuwam sie tez tym wskaznikiem\n",
        "                j -= 1\n",
        "            k -= 1# wskaznik na tablice docelowa (nums1)\n",
        "\n",
        "\n",
        "        #print(nums1)\n",
        "\n",
        "\n",
        "solution = Solution()\n",
        "\n",
        "nums1 = [1,2,3,0,0,0]\n",
        "m = 3\n",
        "nums2 = [2,5,6]\n",
        "n = 3\n",
        "\n",
        "solution = solution.merge(nums1, m , nums2, n)"
      ],
      "metadata": {
        "colab": {
          "base_uri": "https://localhost:8080/",
          "height": 297
        },
        "id": "YaCNhbWTeew3",
        "outputId": "2f577383-5ed5-4e81-85fa-d07b795aff3e"
      },
      "execution_count": null,
      "outputs": [
        {
          "output_type": "error",
          "ename": "IndexError",
          "evalue": "list index out of range",
          "traceback": [
            "\u001b[0;31m---------------------------------------------------------------------------\u001b[0m",
            "\u001b[0;31mIndexError\u001b[0m                                Traceback (most recent call last)",
            "\u001b[0;32m<ipython-input-30-5219442f274b>\u001b[0m in \u001b[0;36m<cell line: 35>\u001b[0;34m()\u001b[0m\n\u001b[1;32m     33\u001b[0m \u001b[0mn\u001b[0m \u001b[0;34m=\u001b[0m \u001b[0;36m10\u001b[0m\u001b[0;34m\u001b[0m\u001b[0;34m\u001b[0m\u001b[0m\n\u001b[1;32m     34\u001b[0m \u001b[0;34m\u001b[0m\u001b[0m\n\u001b[0;32m---> 35\u001b[0;31m \u001b[0msolution\u001b[0m \u001b[0;34m=\u001b[0m \u001b[0msolution\u001b[0m\u001b[0;34m.\u001b[0m\u001b[0mmerge\u001b[0m\u001b[0;34m(\u001b[0m\u001b[0mnums1\u001b[0m\u001b[0;34m,\u001b[0m \u001b[0mm\u001b[0m \u001b[0;34m,\u001b[0m \u001b[0mnums2\u001b[0m\u001b[0;34m,\u001b[0m \u001b[0mn\u001b[0m\u001b[0;34m)\u001b[0m\u001b[0;34m\u001b[0m\u001b[0;34m\u001b[0m\u001b[0m\n\u001b[0m",
            "\u001b[0;32m<ipython-input-30-5219442f274b>\u001b[0m in \u001b[0;36mmerge\u001b[0;34m(self, nums1, m, nums2, n)\u001b[0m\n\u001b[1;32m     12\u001b[0m \u001b[0;34m\u001b[0m\u001b[0m\n\u001b[1;32m     13\u001b[0m             \u001b[0;31m# weryfikuje ostatnie cyfry\u001b[0m\u001b[0;34m\u001b[0m\u001b[0;34m\u001b[0m\u001b[0m\n\u001b[0;32m---> 14\u001b[0;31m             \u001b[0;32mif\u001b[0m \u001b[0mi\u001b[0m \u001b[0;34m>=\u001b[0m \u001b[0;36m0\u001b[0m \u001b[0;32mand\u001b[0m \u001b[0mnums1\u001b[0m\u001b[0;34m[\u001b[0m\u001b[0mi\u001b[0m\u001b[0;34m]\u001b[0m \u001b[0;34m>\u001b[0m \u001b[0mnums2\u001b[0m\u001b[0;34m[\u001b[0m\u001b[0mj\u001b[0m\u001b[0;34m]\u001b[0m\u001b[0;34m:\u001b[0m\u001b[0;34m\u001b[0m\u001b[0;34m\u001b[0m\u001b[0m\n\u001b[0m\u001b[1;32m     15\u001b[0m                 \u001b[0mnums1\u001b[0m\u001b[0;34m[\u001b[0m\u001b[0mk\u001b[0m\u001b[0;34m]\u001b[0m \u001b[0;34m=\u001b[0m \u001b[0mnums1\u001b[0m\u001b[0;34m[\u001b[0m\u001b[0mi\u001b[0m\u001b[0;34m]\u001b[0m\u001b[0;34m\u001b[0m\u001b[0;34m\u001b[0m\u001b[0m\n\u001b[1;32m     16\u001b[0m                 \u001b[0mi\u001b[0m \u001b[0;34m-=\u001b[0m \u001b[0;36m1\u001b[0m\u001b[0;34m\u001b[0m\u001b[0;34m\u001b[0m\u001b[0m\n",
            "\u001b[0;31mIndexError\u001b[0m: list index out of range"
          ]
        }
      ]
    },
    {
      "cell_type": "markdown",
      "source": [
        "70. Climbing Stairs\n",
        "\n",
        "You are climbing a staircase. It takes n steps to reach the top.\n",
        "\n",
        "Each time you can either climb 1 or 2 steps. In how many distinct ways can you climb to the top?\n",
        "\n",
        "\n",
        "Example 1:\n",
        "\n",
        "Input: n = 2\n",
        "Output: 2\n",
        "Explanation: There are two ways to climb to the top.\n",
        "1. 1 step + 1 step\n",
        "2. 2 steps\n",
        "Example 2:\n",
        "\n",
        "Input: n = 3\n",
        "Output: 3\n",
        "Explanation: There are three ways to climb to the top.\n",
        "1. 1 step + 1 step + 1 step\n",
        "2. 1 step + 2 steps\n",
        "3. 2 steps + 1 step"
      ],
      "metadata": {
        "id": "_b3svOYbxpR4"
      }
    },
    {
      "cell_type": "code",
      "source": [
        "class Solution:\n",
        "    def climbStairs(self, n: int) -> int:\n",
        "        one, two =1,1\n",
        "        for i in range(n-1):\n",
        "          temp = one\n",
        "          one = one+two\n",
        "          two = temp\n",
        "        return one\n",
        "\n",
        "\n",
        "solution = Solution()\n",
        "n= 5\n",
        "solution = solution.climbStairs(n)\n",
        "print(solution)"
      ],
      "metadata": {
        "id": "1F2_dExDxoT4",
        "outputId": "319077c9-cbe5-4548-fa87-4f9ca68297e9",
        "colab": {
          "base_uri": "https://localhost:8080/"
        }
      },
      "execution_count": null,
      "outputs": [
        {
          "output_type": "stream",
          "name": "stdout",
          "text": [
            "8\n"
          ]
        }
      ]
    },
    {
      "cell_type": "markdown",
      "source": [
        "94. Binary Tree Inorder Traversal\n",
        "\n",
        "Given the root of a binary tree, return the inorder traversal (przejście w kolejności) of its nodes' values.\n",
        "\n",
        "Example 1:\n",
        "\n",
        "![image.png](data:image/png;base64,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)\n",
        "\n",
        "Input: root = [1,null,2,3]\n",
        "Output: [1,3,2]\n",
        "\n"
      ],
      "metadata": {
        "id": "KFg-25sUzY58"
      }
    },
    {
      "cell_type": "code",
      "source": [
        "# Definition for a binary tree node.\n",
        "class TreeNode:\n",
        "     def __init__(self, val=0, left=None, right=None):\n",
        "         self.val = val\n",
        "         self.left = left\n",
        "         self.right = right\n",
        "class Solution:\n",
        "    def inorderTraversal(self, root: Optional[TreeNode]) -> List[int]:\n",
        "\n",
        "      result = []\n",
        "      stack = []\n",
        "      curr = root\n",
        "      while curr or stack:\n",
        "        while curr:\n",
        "          # dodaje na stos kolejne wartosci (zaczynajac od roota)\n",
        "          # ide i dodaje az do momentu trafienia na lisc (dalej jest tylko NULL)\n",
        "          stack.append(curr)\n",
        "          # przesuwam wskaznik na lewa strone (zawsze najpierw lewa pozniej prawa)\n",
        "          # robie to tak długo az nie trafie do liscia(czyli nie ma juz dalej nic jest NULL)\n",
        "          curr = curr.left\n",
        "        # jak juz trafie na lisc to musze go spopować ze stosu\n",
        "        curr = stack.pop()\n",
        "        #\n",
        "        result.append(curr.val)\n",
        "        curr = curr.right\n",
        "      return result\n",
        "\n",
        "\n",
        "solution = Solution()\n",
        "# root = [1,2,3]\n",
        "root = TreeNode(1)\n",
        "root.left = TreeNode(2)\n",
        "root.left.right = TreeNode(4)\n",
        "root.left.left = TreeNode(3)\n",
        "root.right = TreeNode(5)\n",
        "solution = solution.inorderTraversal(root)\n",
        "print(solution)"
      ],
      "metadata": {
        "colab": {
          "base_uri": "https://localhost:8080/"
        },
        "id": "lkyIAnHQfj11",
        "outputId": "13e40a0d-f841-4121-97c5-36a0c2bf4d19"
      },
      "execution_count": null,
      "outputs": [
        {
          "output_type": "stream",
          "name": "stdout",
          "text": [
            "[3, 2, 4, 1, 5]\n"
          ]
        }
      ]
    },
    {
      "cell_type": "markdown",
      "source": [
        "392"
      ],
      "metadata": {
        "id": "L2EzVLwpQxvO"
      }
    },
    {
      "cell_type": "code",
      "source": [
        "class Solution:\n",
        "    def isSubsequence(self, s: str, t: str) -> bool:\n",
        "\n",
        "        i = 0\n",
        "        j = 0\n",
        "        # dopki i jest mniejsze niz dlugosc docelowego\n",
        "        # oraz j jest mniejsze niz dlugosc zrodlowego\n",
        "        while i < len(s) and j < len(t):\n",
        "            # to porownuje kolejno literki docelowe\n",
        "            # wzgledem zrodlowych\n",
        "            # i jezeli ten zrodlowy odpowiada docelowemu\n",
        "            # to wtedy musze przesunac sie o indeks w\n",
        "            # jednym i drugim\n",
        "            if s[i] == t[j]:\n",
        "                i+=1\n",
        "                j+=1\n",
        "            # jezeli moj docelowy nie jest tym ze\n",
        "            # zdrodlowego to kontynuuje sprawdzanie\n",
        "            # zrodlowego wiec przesuwam w nim indeks\n",
        "            else:\n",
        "                j+=1\n",
        "        # teraz wazne. Jesli i osiagnelo wartosc dlugosci\n",
        "        # to znaczy ze przeszukalem caly docelowy i znalazlem\n",
        "        # ten ostatni tez (bo zwiekszylem i po ostatnim znalezieniu)\n",
        "\n",
        "        # dodatkowo jezeli szukalem jakiegos docelowego w zrodlowym\n",
        "        # i go nie znalazlem to znaczy ze go tam nie ma, a wtedy\n",
        "        # wychodzi z while i sprawdza czy to moje i przeszlo przez\n",
        "        # wszystkie. No nie przeszlo wiec zwroci False\n",
        "        return True if i == len(s) else False"
      ],
      "metadata": {
        "id": "g-XWfVnx_1OU"
      },
      "execution_count": 1,
      "outputs": []
    },
    {
      "cell_type": "code",
      "source": [],
      "metadata": {
        "id": "3rLlKXO2QzDa"
      },
      "execution_count": null,
      "outputs": []
    }
  ],
  "metadata": {
    "colab": {
      "provenance": [],
      "authorship_tag": "ABX9TyPbr5n1l/biO1eLLe28R0CJ",
      "include_colab_link": true
    },
    "kernelspec": {
      "display_name": "Python 3",
      "name": "python3"
    },
    "language_info": {
      "name": "python"
    }
  },
  "nbformat": 4,
  "nbformat_minor": 0
}